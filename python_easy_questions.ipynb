{
  "nbformat": 4,
  "nbformat_minor": 0,
  "metadata": {
    "colab": {
      "provenance": [],
      "authorship_tag": "ABX9TyPNDtRMa9Yh7Raw9+z99w7Y",
      "include_colab_link": true
    },
    "kernelspec": {
      "name": "python3",
      "display_name": "Python 3"
    },
    "language_info": {
      "name": "python"
    }
  },
  "cells": [
    {
      "cell_type": "markdown",
      "metadata": {
        "id": "view-in-github",
        "colab_type": "text"
      },
      "source": [
        "<a href=\"https://colab.research.google.com/github/sandeep0097-97/Pythoninterview-question/blob/main/python_easy_questions.ipynb\" target=\"_parent\"><img src=\"https://colab.research.google.com/assets/colab-badge.svg\" alt=\"Open In Colab\"/></a>"
      ]
    },
    {
      "cell_type": "markdown",
      "source": [
        "Integers, Floats and Booleans\n"
      ],
      "metadata": {
        "id": "tPbuhZDZKIWl"
      }
    },
    {
      "cell_type": "markdown",
      "source": [
        "Question 1: Integer Operations\n",
        "Write a Python program that takes two integers as input from the user and performs the following operations:\n",
        "\n",
        "Addition\n",
        "Subtraction\n",
        "Multiplication\n",
        "Division (floor division and normal division)\n"
      ],
      "metadata": {
        "id": "X-9K8BnSKYSA"
      }
    },
    {
      "cell_type": "code",
      "source": [
        "# Solution 1\n",
        "num1 = int(input(\"Enter the first integer: \"))\n",
        "num2 = int(input(\"Enter the second integer: \"))\n",
        "\n",
        "addition = num1 + num2\n",
        "subtraction = num1 - num2\n",
        "multiplication = num1 * num2\n",
        "division = num1 / num2\n",
        "floor_division = num1 // num2\n",
        "\n",
        "print(\"Addition:\", addition)\n",
        "print(\"Subtraction:\", subtraction)\n",
        "print(\"Multiplication:\", multiplication)\n",
        "print(\"Division:\", division)\n",
        "print(\"Floor Division:\", floor_division)\n"
      ],
      "metadata": {
        "colab": {
          "base_uri": "https://localhost:8080/"
        },
        "id": "eL-NYDl2KL8a",
        "outputId": "066357f4-87c9-4958-92ac-fc03d34b86b7"
      },
      "execution_count": 1,
      "outputs": [
        {
          "output_type": "stream",
          "name": "stdout",
          "text": [
            "Enter the first integer: 3\n",
            "Enter the second integer: 5\n",
            "Addition: 8\n",
            "Subtraction: -2\n",
            "Multiplication: 15\n",
            "Division: 0.6\n",
            "Floor Division: 0\n"
          ]
        }
      ]
    },
    {
      "cell_type": "markdown",
      "source": [
        "Question 2: Float Operations\n",
        "Write a Python program that takes two floating-point numbers as input from the user and calculates their sum, difference, product, and quotient.\n"
      ],
      "metadata": {
        "id": "iFJ6zuuZKo8X"
      }
    },
    {
      "cell_type": "code",
      "source": [
        "# Solution 2\n",
        "num1 = float(input(\"Enter the first float: \"))\n",
        "num2 = float(input(\"Enter the second float: \"))\n",
        "\n",
        "sum_result = num1 + num2\n",
        "difference = num1 - num2\n",
        "product = num1 * num2\n",
        "quotient = num1 / num2\n",
        "\n",
        "print(\"Sum:\", sum_result)\n",
        "print(\"Difference:\", difference)\n",
        "print(\"Product:\", product)\n",
        "print(\"Quotient:\", quotient)\n"
      ],
      "metadata": {
        "colab": {
          "base_uri": "https://localhost:8080/"
        },
        "id": "7ocVOLf8KMAa",
        "outputId": "8e1ece69-77fa-4bd4-8817-23ad76cd17aa"
      },
      "execution_count": 2,
      "outputs": [
        {
          "output_type": "stream",
          "name": "stdout",
          "text": [
            "Enter the first float: 4.5\n",
            "Enter the second float: 3.6\n",
            "Sum: 8.1\n",
            "Difference: 0.8999999999999999\n",
            "Product: 16.2\n",
            "Quotient: 1.25\n"
          ]
        }
      ]
    },
    {
      "cell_type": "markdown",
      "source": [
        "Question 3: Boolean Operations\n",
        "Write a Python program that takes two boolean values as input from the user and performs boolean operations such as AND, OR, and NOT."
      ],
      "metadata": {
        "id": "l6kyuPXGKzog"
      }
    },
    {
      "cell_type": "code",
      "source": [
        "# Solution 3\n",
        "bool1 = bool(input(\"Enter the first boolean value (True or False): \"))\n",
        "bool2 = bool(input(\"Enter the second boolean value (True or False): \"))\n",
        "\n",
        "and_result = bool1 and bool2\n",
        "or_result = bool1 or bool2\n",
        "not_result1 = not bool1\n",
        "not_result2 = not bool2\n",
        "\n",
        "print(\"AND Result:\", and_result)\n",
        "print(\"OR Result:\", or_result)\n",
        "print(\"NOT Result for bool1:\", not_result1)\n",
        "print(\"NOT Result for bool2:\", not_result2)\n"
      ],
      "metadata": {
        "colab": {
          "base_uri": "https://localhost:8080/"
        },
        "id": "olH3E4JkKMGb",
        "outputId": "f7bbe151-ac05-4e8c-f616-fe21fc201c05"
      },
      "execution_count": 3,
      "outputs": [
        {
          "output_type": "stream",
          "name": "stdout",
          "text": [
            "Enter the first boolean value (True or False): 4\n",
            "Enter the second boolean value (True or False): 5\n",
            "AND Result: True\n",
            "OR Result: True\n",
            "NOT Result for bool1: False\n",
            "NOT Result for bool2: False\n"
          ]
        }
      ]
    },
    {
      "cell_type": "markdown",
      "source": [
        "Introduction to Strings"
      ],
      "metadata": {
        "id": "e__z5qkpLEhf"
      }
    },
    {
      "cell_type": "markdown",
      "source": [
        "Question 1: String Concatenation\n",
        "Write a Python program that takes two strings as input from the user and concatenates them.\n"
      ],
      "metadata": {
        "id": "bIoMkzlaLOi3"
      }
    },
    {
      "cell_type": "code",
      "source": [
        "# Solution 1\n",
        "str1 = input(\"Enter the first string: \")\n",
        "str2 = input(\"Enter the second string: \")\n",
        "\n",
        "concatenated_str = str1 + str2\n",
        "\n",
        "print(\"Concatenated String:\", concatenated_str)\n"
      ],
      "metadata": {
        "colab": {
          "base_uri": "https://localhost:8080/"
        },
        "id": "goobN7DZKKyi",
        "outputId": "8cea8093-855e-4942-a95d-f1596dcee824"
      },
      "execution_count": 4,
      "outputs": [
        {
          "output_type": "stream",
          "name": "stdout",
          "text": [
            "Enter the first string: sandeep\n",
            "Enter the second string: singh\n",
            "Concatenated String: sandeepsingh\n"
          ]
        }
      ]
    },
    {
      "cell_type": "markdown",
      "source": [
        "Question 2: String Length\n",
        "Write a Python program that takes a string as input from the user and calculates and prints its length.\n"
      ],
      "metadata": {
        "id": "E9IwsP5GLXTL"
      }
    },
    {
      "cell_type": "code",
      "source": [
        "# Solution 2\n",
        "user_input = input(\"Enter a string: \")\n",
        "length_of_string = len(user_input)\n",
        "\n",
        "print(\"Length of the String:\", length_of_string)\n"
      ],
      "metadata": {
        "colab": {
          "base_uri": "https://localhost:8080/"
        },
        "id": "Tl2gKwprLRJx",
        "outputId": "5a0a05f8-58fb-4803-8fea-34825bdb5208"
      },
      "execution_count": 5,
      "outputs": [
        {
          "output_type": "stream",
          "name": "stdout",
          "text": [
            "Enter a string: sandeep\n",
            "Length of the String: 7\n"
          ]
        }
      ]
    },
    {
      "cell_type": "markdown",
      "source": [
        "Question 3: String Reversal\n",
        "Write a Python program that takes a string as input from the user and prints its reverse.\n"
      ],
      "metadata": {
        "id": "VeWxy_z8LhE2"
      }
    },
    {
      "cell_type": "code",
      "source": [
        "# Solution 3\n",
        "user_input = input(\"Enter a string: \")\n",
        "reversed_string = user_input[::-1]\n",
        "\n",
        "print(\"Reversed String:\", reversed_string)\n"
      ],
      "metadata": {
        "colab": {
          "base_uri": "https://localhost:8080/"
        },
        "id": "5L6uxq3oLgSP",
        "outputId": "6332c67d-ddc6-4ff7-a024-93832e2e8cfa"
      },
      "execution_count": 6,
      "outputs": [
        {
          "output_type": "stream",
          "name": "stdout",
          "text": [
            "Enter a string: sand\n",
            "Reversed String: dnas\n"
          ]
        }
      ]
    },
    {
      "cell_type": "markdown",
      "source": [
        "Question 4: Count Vowels\n",
        "Write a Python program that takes a string as input from the user and counts the number of vowels (both uppercase and lowercase) in the string.\n"
      ],
      "metadata": {
        "id": "NPnKp-qXLos7"
      }
    },
    {
      "cell_type": "code",
      "source": [
        "# Solution 4\n",
        "user_input = input(\"Enter a string: \")\n",
        "vowel_count = sum(1 for char in user_input if char.lower() in \"aeiou\")\n",
        "\n",
        "print(\"Number of Vowels:\", vowel_count)\n"
      ],
      "metadata": {
        "colab": {
          "base_uri": "https://localhost:8080/"
        },
        "id": "M8bUDGNxLZtx",
        "outputId": "a8f5fd00-828f-40ab-db43-597fe724bf88"
      },
      "execution_count": 7,
      "outputs": [
        {
          "output_type": "stream",
          "name": "stdout",
          "text": [
            "Enter a string: sandeep\n",
            "Number of Vowels: 3\n"
          ]
        }
      ]
    },
    {
      "cell_type": "markdown",
      "source": [
        "Question 5: Palindrome Check\n",
        "Write a Python program that takes a string as input from the user and checks if it is a palindrome.\n"
      ],
      "metadata": {
        "id": "hT6T2-lYLxUg"
      }
    },
    {
      "cell_type": "code",
      "source": [
        "# Solution 5\n",
        "user_input = input(\"Enter a string: \")\n",
        "is_palindrome = user_input == user_input[::-1]\n",
        "\n",
        "if is_palindrome:\n",
        "    print(\"The string is a palindrome.\")\n",
        "else:\n",
        "    print(\"The string is not a palindrome.\")\n"
      ],
      "metadata": {
        "colab": {
          "base_uri": "https://localhost:8080/"
        },
        "id": "zxuNFrZSLr-R",
        "outputId": "96555d78-5e2d-45f9-89ca-4ee631538e20"
      },
      "execution_count": 8,
      "outputs": [
        {
          "output_type": "stream",
          "name": "stdout",
          "text": [
            "Enter a string: sandeep\n",
            "The string is not a palindrome.\n"
          ]
        }
      ]
    },
    {
      "cell_type": "markdown",
      "source": [
        "Introduction to Lists\n"
      ],
      "metadata": {
        "id": "NBNdIZAnMD0O"
      }
    },
    {
      "cell_type": "markdown",
      "source": [
        "Question 1: List Operations\n",
        "Write a Python program that demonstrates basic list operations:\n",
        "\n",
        "Create a list with elements of different data types.\n",
        "Access and print specific elements of the list.\n",
        "Modify elements in the list.\n",
        "Append a new element to the list.\n",
        "Find the length of the list.\n"
      ],
      "metadata": {
        "id": "eupE2szgMP2n"
      }
    },
    {
      "cell_type": "code",
      "source": [
        "# Solution 1\n",
        "my_list = [1, \"hello\", 3.14, True]\n",
        "\n",
        "# Access and print specific elements\n",
        "print(\"Element at index 1:\", my_list[1])\n",
        "print(\"Element at index 2:\", my_list[2])\n",
        "\n",
        "# Modify elements\n",
        "my_list[0] = 42\n",
        "print(\"Modified list:\", my_list)\n",
        "\n",
        "# Append a new element\n",
        "my_list.append(\"world\")\n",
        "print(\"List after appending:\", my_list)\n",
        "\n",
        "# Find the length of the list\n",
        "list_length = len(my_list)\n",
        "print(\"Length of the list:\", list_length)\n"
      ],
      "metadata": {
        "colab": {
          "base_uri": "https://localhost:8080/"
        },
        "id": "J-vEsPOVL1ng",
        "outputId": "d38d38c0-e18d-4ab4-ba28-04eea866a4e8"
      },
      "execution_count": 9,
      "outputs": [
        {
          "output_type": "stream",
          "name": "stdout",
          "text": [
            "Element at index 1: hello\n",
            "Element at index 2: 3.14\n",
            "Modified list: [42, 'hello', 3.14, True]\n",
            "List after appending: [42, 'hello', 3.14, True, 'world']\n",
            "Length of the list: 5\n"
          ]
        }
      ]
    },
    {
      "cell_type": "markdown",
      "source": [
        "Question 2: List Sum\n",
        "Write a Python program that takes a list of numbers as input from the user and calculates their sum."
      ],
      "metadata": {
        "id": "5pTeBWfAM1nP"
      }
    },
    {
      "cell_type": "code",
      "source": [
        "# Solution 2\n",
        "num_list = [float(x) for x in input(\"Enter a list of numbers separated by space: \").split()]\n",
        "\n",
        "sum_of_numbers = sum(num_list)\n",
        "print(\"Sum of the numbers:\", sum_of_numbers)\n"
      ],
      "metadata": {
        "colab": {
          "base_uri": "https://localhost:8080/"
        },
        "id": "JSYVCqeHMSz9",
        "outputId": "be9e91b3-bc6c-4d1e-ce62-387bf8763fb9"
      },
      "execution_count": 10,
      "outputs": [
        {
          "output_type": "stream",
          "name": "stdout",
          "text": [
            "Enter a list of numbers separated by space: 5 7 8\n",
            "Sum of the numbers: 20.0\n"
          ]
        }
      ]
    },
    {
      "cell_type": "markdown",
      "source": [
        "Question 3: List Comprehension\n",
        "Write a Python program that uses list comprehension to create a new list containing the squares of the numbers from 1 to 10."
      ],
      "metadata": {
        "id": "-W-ZLtZkNEu8"
      }
    },
    {
      "cell_type": "code",
      "source": [
        "# Solution 3\n",
        "squares_list = [x**2 for x in range(1, 11)]\n",
        "print(\"List of squares:\", squares_list)\n"
      ],
      "metadata": {
        "colab": {
          "base_uri": "https://localhost:8080/"
        },
        "id": "H9_aJvMBM5ZH",
        "outputId": "96d509bd-b983-4f0c-efda-056c571f7083"
      },
      "execution_count": 11,
      "outputs": [
        {
          "output_type": "stream",
          "name": "stdout",
          "text": [
            "List of squares: [1, 4, 9, 16, 25, 36, 49, 64, 81, 100]\n"
          ]
        }
      ]
    },
    {
      "cell_type": "markdown",
      "source": [
        "Question 4: List Sorting\n",
        "Write a Python program that takes a list of words as input from the user and sorts them alphabetically."
      ],
      "metadata": {
        "id": "v5GVWsYDNShS"
      }
    },
    {
      "cell_type": "code",
      "source": [
        "# Solution 4\n",
        "words_list = input(\"Enter a list of words separated by space: \").split()\n",
        "sorted_words = sorted(words_list)\n",
        "\n",
        "print(\"Sorted words:\", sorted_words)\n"
      ],
      "metadata": {
        "colab": {
          "base_uri": "https://localhost:8080/"
        },
        "id": "cUaX74QANN3I",
        "outputId": "612b9733-6ae4-4a16-c369-483979036e74"
      },
      "execution_count": 12,
      "outputs": [
        {
          "output_type": "stream",
          "name": "stdout",
          "text": [
            "Enter a list of words separated by space: amar benstroke car dog\n",
            "Sorted words: ['amar', 'benstroke', 'car', 'dog']\n"
          ]
        }
      ]
    },
    {
      "cell_type": "markdown",
      "source": [
        "Question 5: List Reverse\n",
        "Write a Python program that takes a list of integers as input from the user and prints the list in reverse order."
      ],
      "metadata": {
        "id": "xf-6TUs1NgDh"
      }
    },
    {
      "cell_type": "code",
      "source": [
        "# Solution 5\n",
        "int_list = [int(x) for x in input(\"Enter a list of integers separated by space: \").split()]\n",
        "reversed_list = reversed(int_list)\n",
        "\n",
        "print(\"Reversed list:\", list(reversed_list))\n"
      ],
      "metadata": {
        "colab": {
          "base_uri": "https://localhost:8080/"
        },
        "id": "KYq1Owy0NVDF",
        "outputId": "20ba3023-8943-4782-d7e5-43d10f7d78d4"
      },
      "execution_count": 14,
      "outputs": [
        {
          "output_type": "stream",
          "name": "stdout",
          "text": [
            "Enter a list of integers separated by space: 1 2 3 3 3 3 4 4 5 56 \n",
            "Reversed list: [56, 5, 4, 4, 3, 3, 3, 3, 2, 1]\n"
          ]
        }
      ]
    },
    {
      "cell_type": "markdown",
      "source": [
        "Tuples, Sets and Dictionaries"
      ],
      "metadata": {
        "id": "Qkk9k5RCNzSe"
      }
    },
    {
      "cell_type": "markdown",
      "source": [
        "Question 1: Tuple Operations\n",
        "Write a Python program that demonstrates basic tuple operations:\n",
        "\n",
        "Create a tuple with elements of different data types.\n",
        "Access and print specific elements of the tuple.\n",
        "Concatenate two tuples."
      ],
      "metadata": {
        "id": "4YCMv7eSN_vm"
      }
    },
    {
      "cell_type": "code",
      "source": [
        "# Solution 1\n",
        "my_tuple = (1, \"hello\", 3.14, True)\n",
        "\n",
        "# Access and print specific elements\n",
        "print(\"Element at index 1:\", my_tuple[1])\n",
        "print(\"Element at index 2:\", my_tuple[2])\n",
        "\n",
        "# Concatenate two tuples\n",
        "another_tuple = (\"world\", 42)\n",
        "concatenated_tuple = my_tuple + another_tuple\n",
        "print(\"Concatenated tuple:\", concatenated_tuple)\n"
      ],
      "metadata": {
        "colab": {
          "base_uri": "https://localhost:8080/"
        },
        "id": "fCsOZSFhNiSU",
        "outputId": "6a76828f-7cfe-4c85-cc25-504dd4bb2886"
      },
      "execution_count": 15,
      "outputs": [
        {
          "output_type": "stream",
          "name": "stdout",
          "text": [
            "Element at index 1: hello\n",
            "Element at index 2: 3.14\n",
            "Concatenated tuple: (1, 'hello', 3.14, True, 'world', 42)\n"
          ]
        }
      ]
    },
    {
      "cell_type": "markdown",
      "source": [
        "Sets:\n",
        "Question 2: Set Operations\n",
        "Write a Python program that demonstrates basic set operations:\n",
        "\n",
        "Create two sets with different elements.\n",
        "Find the union, intersection, and difference of the sets.\n",
        "Check if one set is a subset of another."
      ],
      "metadata": {
        "id": "bLr4f97IOMUS"
      }
    },
    {
      "cell_type": "code",
      "source": [
        "# Solution 2\n",
        "set1 = {1, 2, 3, 4, 5}\n",
        "set2 = {4, 5, 6, 7, 8}\n",
        "\n",
        "# Union, intersection, and difference of sets\n",
        "union_set = set1.union(set2)\n",
        "intersection_set = set1.intersection(set2)\n",
        "difference_set = set1.difference(set2)\n",
        "\n",
        "print(\"Union of sets:\", union_set)\n",
        "print(\"Intersection of sets:\", intersection_set)\n",
        "print(\"Difference of sets:\", difference_set)\n",
        "\n",
        "# Check if one set is a subset of another\n",
        "is_subset = set1.issubset(set2)\n",
        "print(\"Is set1 a subset of set2?\", is_subset)\n"
      ],
      "metadata": {
        "colab": {
          "base_uri": "https://localhost:8080/"
        },
        "id": "R7fQlv9_OB04",
        "outputId": "12802d3e-c98b-4866-a866-d9dbe9ce1cb8"
      },
      "execution_count": 16,
      "outputs": [
        {
          "output_type": "stream",
          "name": "stdout",
          "text": [
            "Union of sets: {1, 2, 3, 4, 5, 6, 7, 8}\n",
            "Intersection of sets: {4, 5}\n",
            "Difference of sets: {1, 2, 3}\n",
            "Is set1 a subset of set2? False\n"
          ]
        }
      ]
    },
    {
      "cell_type": "markdown",
      "source": [
        "Question 3: Dictionary Operations\n",
        "Write a Python program that demonstrates basic dictionary operations:\n",
        "\n",
        "Create a dictionary with key-value pairs.\n",
        "Access and print specific values using keys.\n",
        "Modify values in the dictionary.\n",
        "Add a new key-value pair to the dictionary."
      ],
      "metadata": {
        "id": "KSRJ8JBkOSyD"
      }
    },
    {
      "cell_type": "code",
      "source": [
        "# Solution 3\n",
        "my_dict = {\"name\": \"John\", \"age\": 25, \"city\": \"New York\"}\n",
        "\n",
        "# Access and print specific values\n",
        "print(\"Name:\", my_dict[\"name\"])\n",
        "print(\"Age:\", my_dict[\"age\"])\n",
        "\n",
        "# Modify values in the dictionary\n",
        "my_dict[\"age\"] = 26\n",
        "print(\"Modified dictionary:\", my_dict)\n",
        "\n",
        "# Add a new key-value pair\n",
        "my_dict[\"occupation\"] = \"Engineer\"\n",
        "print(\"Dictionary after adding a new key-value pair:\", my_dict)\n"
      ],
      "metadata": {
        "colab": {
          "base_uri": "https://localhost:8080/"
        },
        "id": "YFC3R2CmOOMU",
        "outputId": "6199d799-777c-4cac-ab58-a90cd7457964"
      },
      "execution_count": 17,
      "outputs": [
        {
          "output_type": "stream",
          "name": "stdout",
          "text": [
            "Name: John\n",
            "Age: 25\n",
            "Modified dictionary: {'name': 'John', 'age': 26, 'city': 'New York'}\n",
            "Dictionary after adding a new key-value pair: {'name': 'John', 'age': 26, 'city': 'New York', 'occupation': 'Engineer'}\n"
          ]
        }
      ]
    },
    {
      "cell_type": "markdown",
      "source": [
        "Statements, Indentation and Conditionals\n"
      ],
      "metadata": {
        "id": "3n3r0s0-OcMu"
      }
    },
    {
      "cell_type": "markdown",
      "source": [
        "Question 1: Print Statement\n",
        "Write a Python program that prints your name."
      ],
      "metadata": {
        "id": "iuFM-FOiO7St"
      }
    },
    {
      "cell_type": "code",
      "source": [
        "# Solution 1\n",
        "print(\"My name is John Doe\")\n"
      ],
      "metadata": {
        "colab": {
          "base_uri": "https://localhost:8080/"
        },
        "id": "XKI5eGthOU1g",
        "outputId": "4d5da833-9eef-4433-c9a7-61aa6591767a"
      },
      "execution_count": 18,
      "outputs": [
        {
          "output_type": "stream",
          "name": "stdout",
          "text": [
            "My name is John Doe\n"
          ]
        }
      ]
    },
    {
      "cell_type": "markdown",
      "source": [
        "Question 2: Indentation\n",
        "Write a Python program that checks if a number is positive or negative and prints the result.\n",
        "\n"
      ],
      "metadata": {
        "id": "kU4F2nJhPAlc"
      }
    },
    {
      "cell_type": "code",
      "source": [
        "# Solution 2\n",
        "number = int(input(\"Enter a number: \"))\n",
        "\n",
        "if number > 0:\n",
        "    print(\"The number is positive.\")\n",
        "elif number < 0:\n",
        "    print(\"The number is negative.\")\n",
        "else:\n",
        "    print(\"The number is zero.\")\n"
      ],
      "metadata": {
        "colab": {
          "base_uri": "https://localhost:8080/"
        },
        "id": "TkA3EsunO9dZ",
        "outputId": "aeb19c79-bbdb-44b6-e088-5d4b81133fe3"
      },
      "execution_count": 19,
      "outputs": [
        {
          "output_type": "stream",
          "name": "stdout",
          "text": [
            "Enter a number: 4\n",
            "The number is positive.\n"
          ]
        }
      ]
    },
    {
      "cell_type": "markdown",
      "source": [
        "Question 3: Even or Odd\n",
        "Write a Python program that checks if a number is even or odd and prints the result.\n"
      ],
      "metadata": {
        "id": "OJ3SJYQhPIoX"
      }
    },
    {
      "cell_type": "code",
      "source": [
        "# Solution 3\n",
        "number = int(input(\"Enter a number: \"))\n",
        "\n",
        "if number % 2 == 0:\n",
        "    print(\"The number is even.\")\n",
        "else:\n",
        "    print(\"The number is odd.\")\n"
      ],
      "metadata": {
        "colab": {
          "base_uri": "https://localhost:8080/"
        },
        "id": "q9svYrAAPCzR",
        "outputId": "b4f0f06b-8500-4689-9255-4d0912aa2fae"
      },
      "execution_count": 20,
      "outputs": [
        {
          "output_type": "stream",
          "name": "stdout",
          "text": [
            "Enter a number: 5\n",
            "The number is odd.\n"
          ]
        }
      ]
    },
    {
      "cell_type": "markdown",
      "source": [
        "Question 4: Grade Classification\n",
        "Write a Python program that takes a student's score as input and classifies it into different grade categories (A, B, C, D, F).\n"
      ],
      "metadata": {
        "id": "qx3iDEU5PPeL"
      }
    },
    {
      "cell_type": "code",
      "source": [
        "# Solution 4\n",
        "score = float(input(\"Enter the student's score: \"))\n",
        "\n",
        "if score >= 90:\n",
        "    print(\"Grade: A\")\n",
        "elif score >= 80:\n",
        "    print(\"Grade: B\")\n",
        "elif score >= 70:\n",
        "    print(\"Grade: C\")\n",
        "elif score >= 60:\n",
        "    print(\"Grade: D\")\n",
        "else:\n",
        "    print(\"Grade: F\")\n"
      ],
      "metadata": {
        "colab": {
          "base_uri": "https://localhost:8080/"
        },
        "id": "QMDj4iYvPLkg",
        "outputId": "8aa4958b-46c0-4765-f301-3f930ac57157"
      },
      "execution_count": 21,
      "outputs": [
        {
          "output_type": "stream",
          "name": "stdout",
          "text": [
            "Enter the student's score: 77\n",
            "Grade: C\n"
          ]
        }
      ]
    },
    {
      "cell_type": "markdown",
      "source": [
        "Question 5: Leap Year Check\n",
        "Write a Python program that checks if a year is a leap year or not"
      ],
      "metadata": {
        "id": "C7g3wjoFPV2t"
      }
    },
    {
      "cell_type": "code",
      "source": [
        "# Solution 5\n",
        "year = int(input(\"Enter a year: \"))\n",
        "\n",
        "if year % 4 == 0:\n",
        "    if year % 100 == 0:\n",
        "        if year % 400 == 0:\n",
        "            print(\"Leap year\")\n",
        "        else:\n",
        "            print(\"Not a leap year\")\n",
        "    else:\n",
        "        print(\"Leap year\")\n",
        "else:\n",
        "    print(\"Not a leap year\")\n"
      ],
      "metadata": {
        "colab": {
          "base_uri": "https://localhost:8080/"
        },
        "id": "TKNSWb9PPRs1",
        "outputId": "3d452198-c377-4d24-e5be-7cb8abbae013"
      },
      "execution_count": 22,
      "outputs": [
        {
          "output_type": "stream",
          "name": "stdout",
          "text": [
            "Enter a year: 2000\n",
            "Leap year\n"
          ]
        }
      ]
    },
    {
      "cell_type": "markdown",
      "source": [
        "Loops and Iterations"
      ],
      "metadata": {
        "id": "2fJ07QflPfNX"
      }
    },
    {
      "cell_type": "markdown",
      "source": [
        "Question 1: Print Numbers\n",
        "Write a Python program that uses a for loop to print numbers from 1 to 5."
      ],
      "metadata": {
        "id": "vzyMtRhEPq3d"
      }
    },
    {
      "cell_type": "code",
      "source": [
        "# Solution 1\n",
        "for i in range(1, 6):\n",
        "    print(i)\n"
      ],
      "metadata": {
        "colab": {
          "base_uri": "https://localhost:8080/"
        },
        "id": "URf3muvIPX8g",
        "outputId": "53590991-0c61-4736-9f40-e6d72e708b36"
      },
      "execution_count": 23,
      "outputs": [
        {
          "output_type": "stream",
          "name": "stdout",
          "text": [
            "1\n",
            "2\n",
            "3\n",
            "4\n",
            "5\n"
          ]
        }
      ]
    },
    {
      "cell_type": "markdown",
      "source": [
        "Question 2: Sum of Numbers\n",
        "Write a Python program that uses a while loop to calculate the sum of numbers from 1 to 10."
      ],
      "metadata": {
        "id": "ijVlscUKPwAy"
      }
    },
    {
      "cell_type": "code",
      "source": [
        "# Solution 2\n",
        "sum_of_numbers = 0\n",
        "counter = 1\n",
        "\n",
        "while counter <= 10:\n",
        "    sum_of_numbers += counter\n",
        "    counter += 1\n",
        "\n",
        "print(\"Sum of numbers:\", sum_of_numbers)\n"
      ],
      "metadata": {
        "colab": {
          "base_uri": "https://localhost:8080/"
        },
        "id": "3Mo3Syi6Ptbo",
        "outputId": "b510c220-5da7-4e3a-9e32-84c839286aca"
      },
      "execution_count": 24,
      "outputs": [
        {
          "output_type": "stream",
          "name": "stdout",
          "text": [
            "Sum of numbers: 55\n"
          ]
        }
      ]
    },
    {
      "cell_type": "markdown",
      "source": [
        "Question 3: Print Characters\n",
        "Write a Python program that uses a for loop to print each character of a given string."
      ],
      "metadata": {
        "id": "gcr29dKCP3yF"
      }
    },
    {
      "cell_type": "code",
      "source": [
        "# Solution 3\n",
        "input_string = input(\"Enter a string: \")\n",
        "\n",
        "for char in input_string:\n",
        "    print(char)\n"
      ],
      "metadata": {
        "colab": {
          "base_uri": "https://localhost:8080/"
        },
        "id": "D-aW-g6DPyGG",
        "outputId": "b7ba75f4-d94d-4e39-a222-75939da7050f"
      },
      "execution_count": 25,
      "outputs": [
        {
          "output_type": "stream",
          "name": "stdout",
          "text": [
            "Enter a string: sandeep\n",
            "s\n",
            "a\n",
            "n\n",
            "d\n",
            "e\n",
            "e\n",
            "p\n"
          ]
        }
      ]
    },
    {
      "cell_type": "markdown",
      "source": [
        "Question 4: Multiplication Table\n",
        "Write a Python program that uses nested for loops to print the multiplication table from 1 to 5."
      ],
      "metadata": {
        "id": "wgNW6FYTQBam"
      }
    },
    {
      "cell_type": "code",
      "source": [
        "# Solution 4\n",
        "for i in range(1, 6):\n",
        "    for j in range(1, 11):\n",
        "        print(i, \"*\", j, \"=\", i * j)\n"
      ],
      "metadata": {
        "colab": {
          "base_uri": "https://localhost:8080/"
        },
        "id": "KZ68tP7QP6Ek",
        "outputId": "83de86a2-3d0c-4c6d-96ce-f375a05c61a0"
      },
      "execution_count": 26,
      "outputs": [
        {
          "output_type": "stream",
          "name": "stdout",
          "text": [
            "1 * 1 = 1\n",
            "1 * 2 = 2\n",
            "1 * 3 = 3\n",
            "1 * 4 = 4\n",
            "1 * 5 = 5\n",
            "1 * 6 = 6\n",
            "1 * 7 = 7\n",
            "1 * 8 = 8\n",
            "1 * 9 = 9\n",
            "1 * 10 = 10\n",
            "2 * 1 = 2\n",
            "2 * 2 = 4\n",
            "2 * 3 = 6\n",
            "2 * 4 = 8\n",
            "2 * 5 = 10\n",
            "2 * 6 = 12\n",
            "2 * 7 = 14\n",
            "2 * 8 = 16\n",
            "2 * 9 = 18\n",
            "2 * 10 = 20\n",
            "3 * 1 = 3\n",
            "3 * 2 = 6\n",
            "3 * 3 = 9\n",
            "3 * 4 = 12\n",
            "3 * 5 = 15\n",
            "3 * 6 = 18\n",
            "3 * 7 = 21\n",
            "3 * 8 = 24\n",
            "3 * 9 = 27\n",
            "3 * 10 = 30\n",
            "4 * 1 = 4\n",
            "4 * 2 = 8\n",
            "4 * 3 = 12\n",
            "4 * 4 = 16\n",
            "4 * 5 = 20\n",
            "4 * 6 = 24\n",
            "4 * 7 = 28\n",
            "4 * 8 = 32\n",
            "4 * 9 = 36\n",
            "4 * 10 = 40\n",
            "5 * 1 = 5\n",
            "5 * 2 = 10\n",
            "5 * 3 = 15\n",
            "5 * 4 = 20\n",
            "5 * 5 = 25\n",
            "5 * 6 = 30\n",
            "5 * 7 = 35\n",
            "5 * 8 = 40\n",
            "5 * 9 = 45\n",
            "5 * 10 = 50\n"
          ]
        }
      ]
    },
    {
      "cell_type": "markdown",
      "source": [
        "Question 5: Factorial Calculation\n",
        "Write a Python program that uses a for loop and the break statement to calculate the factorial of a given number."
      ],
      "metadata": {
        "id": "cKpla7PmQIKn"
      }
    },
    {
      "cell_type": "code",
      "source": [
        "# Solution 5\n",
        "number = int(input(\"Enter a number: \"))\n",
        "factorial = 1\n",
        "\n",
        "for i in range(1, number + 1):\n",
        "    factorial *= i\n",
        "    if i == 5:  # Break the loop after calculating factorial up to 5\n",
        "        break\n",
        "\n",
        "print(\"Factorial:\", factorial)\n"
      ],
      "metadata": {
        "colab": {
          "base_uri": "https://localhost:8080/"
        },
        "id": "x8fBacfNQD-w",
        "outputId": "c64c155a-b2e0-449b-b310-1136e4632576"
      },
      "execution_count": 27,
      "outputs": [
        {
          "output_type": "stream",
          "name": "stdout",
          "text": [
            "Enter a number: 4\n",
            "Factorial: 24\n"
          ]
        }
      ]
    },
    {
      "cell_type": "markdown",
      "source": [
        "List Comprehension"
      ],
      "metadata": {
        "id": "ri3-KTsDQRKZ"
      }
    },
    {
      "cell_type": "markdown",
      "source": [
        "Question 1: Squares of Numbers\n",
        "Write a Python program using list comprehension to create a list containing the squares of the numbers from 1 to 10."
      ],
      "metadata": {
        "id": "ojS7SAkuQskb"
      }
    },
    {
      "cell_type": "code",
      "source": [
        "# Solution 1\n",
        "squares_list = [x**2 for x in range(1, 11)]\n",
        "print(\"List of squares:\", squares_list)\n"
      ],
      "metadata": {
        "colab": {
          "base_uri": "https://localhost:8080/"
        },
        "id": "kIIsdmiAQKpE",
        "outputId": "0ede4d87-9b09-4a84-ba43-41095462ff72"
      },
      "execution_count": 28,
      "outputs": [
        {
          "output_type": "stream",
          "name": "stdout",
          "text": [
            "List of squares: [1, 4, 9, 16, 25, 36, 49, 64, 81, 100]\n"
          ]
        }
      ]
    },
    {
      "cell_type": "markdown",
      "source": [
        "Question 2: Even Numbers\n",
        "Write a Python program using list comprehension to create a list of even numbers from 1 to 20."
      ],
      "metadata": {
        "id": "0Dquj3GIQx-0"
      }
    },
    {
      "cell_type": "code",
      "source": [
        "# Solution 2\n",
        "even_numbers_list = [x for x in range(1, 21) if x % 2 == 0]\n",
        "print(\"List of even numbers:\", even_numbers_list)\n"
      ],
      "metadata": {
        "colab": {
          "base_uri": "https://localhost:8080/"
        },
        "id": "QRtykWjpQucc",
        "outputId": "066a2e22-f3aa-44d1-e2d0-29efe4d0fa8d"
      },
      "execution_count": 29,
      "outputs": [
        {
          "output_type": "stream",
          "name": "stdout",
          "text": [
            "List of even numbers: [2, 4, 6, 8, 10, 12, 14, 16, 18, 20]\n"
          ]
        }
      ]
    },
    {
      "cell_type": "markdown",
      "source": [
        "Question 3: String Lengths\n",
        "Write a Python program using list comprehension to create a list containing the lengths of strings in a given list"
      ],
      "metadata": {
        "id": "2kXX4kUuQ3Q1"
      }
    },
    {
      "cell_type": "code",
      "source": [
        "# Solution 3\n",
        "word_list = [\"apple\", \"banana\", \"cherry\", \"date\"]\n",
        "lengths_list = [len(word) for word in word_list]\n",
        "print(\"List of string lengths:\", lengths_list)\n"
      ],
      "metadata": {
        "colab": {
          "base_uri": "https://localhost:8080/"
        },
        "id": "FHJNptrfQ0H5",
        "outputId": "427a50b3-4249-4144-fca9-dc3404067c82"
      },
      "execution_count": 30,
      "outputs": [
        {
          "output_type": "stream",
          "name": "stdout",
          "text": [
            "List of string lengths: [5, 6, 6, 4]\n"
          ]
        }
      ]
    },
    {
      "cell_type": "markdown",
      "source": [
        "Question 4: Vowel Count\n",
        "Write a Python program using list comprehension to count the number of vowels in a given string."
      ],
      "metadata": {
        "id": "Uu45wQgKQ9PB"
      }
    },
    {
      "cell_type": "code",
      "source": [
        "# Solution 4\n",
        "input_string = input(\"Enter a string: \")\n",
        "vowel_count = sum(1 for char in input_string if char.lower() in \"aeiou\")\n",
        "print(\"Number of vowels:\", vowel_count)\n"
      ],
      "metadata": {
        "colab": {
          "base_uri": "https://localhost:8080/"
        },
        "id": "iamitEKgQ5ds",
        "outputId": "b8181c29-ed55-4c17-97fd-5ffd6d3e538d"
      },
      "execution_count": 31,
      "outputs": [
        {
          "output_type": "stream",
          "name": "stdout",
          "text": [
            "Enter a string: sandeepande\n",
            "Number of vowels: 5\n"
          ]
        }
      ]
    },
    {
      "cell_type": "markdown",
      "source": [
        "Question 5: Extract Uppercase Letters\n",
        "Write a Python program using list comprehension to create a list containing only the uppercase letters from a given string.\n"
      ],
      "metadata": {
        "id": "EYOWHXt9RFmP"
      }
    },
    {
      "cell_type": "code",
      "source": [
        "# Solution 5\n",
        "input_string = input(\"Enter a string: \")\n",
        "uppercase_letters = [char for char in input_string if char.isupper()]\n",
        "print(\"Uppercase letters:\", uppercase_letters)\n"
      ],
      "metadata": {
        "colab": {
          "base_uri": "https://localhost:8080/"
        },
        "id": "CdgHiLE_RALl",
        "outputId": "163b5f8a-33b5-47c8-daef-512cfd93fc70"
      },
      "execution_count": 33,
      "outputs": [
        {
          "output_type": "stream",
          "name": "stdout",
          "text": [
            "Enter a string: SAndeep\n",
            "Uppercase letters: ['S', 'A']\n"
          ]
        }
      ]
    },
    {
      "cell_type": "markdown",
      "source": [
        "Functions and Methods"
      ],
      "metadata": {
        "id": "qrcjXdD4THWE"
      }
    },
    {
      "cell_type": "markdown",
      "source": [
        "Question 1: Sum of Two Numbers\n",
        "Write a Python program that defines a function to calculate the sum of two numbers and then calls the function with user-input values."
      ],
      "metadata": {
        "id": "tq01jmHoTVUE"
      }
    },
    {
      "cell_type": "code",
      "source": [
        "# Solution 1\n",
        "def add_numbers(a, b):\n",
        "    return a + b\n",
        "\n",
        "num1 = float(input(\"Enter the first number: \"))\n",
        "num2 = float(input(\"Enter the second number: \"))\n",
        "result = add_numbers(num1, num2)\n",
        "print(\"Sum of numbers:\", result)\n"
      ],
      "metadata": {
        "colab": {
          "base_uri": "https://localhost:8080/"
        },
        "id": "YfP8q4pdRH8x",
        "outputId": "4ff1a47f-bc38-47e9-fba3-8f6c7fa451b1"
      },
      "execution_count": 34,
      "outputs": [
        {
          "output_type": "stream",
          "name": "stdout",
          "text": [
            "Enter the first number: 33\n",
            "Enter the second number: 4\n",
            "Sum of numbers: 37.0\n"
          ]
        }
      ]
    },
    {
      "cell_type": "markdown",
      "source": [
        "Question 2: Factorial Calculation\n",
        "Write a Python program that defines a function to calculate the factorial of a given number and then calls the function."
      ],
      "metadata": {
        "id": "CxYQcVs8TdLX"
      }
    },
    {
      "cell_type": "code",
      "source": [
        "# Solution 2\n",
        "def factorial(n):\n",
        "    if n == 0 or n == 1:\n",
        "        return 1\n",
        "    else:\n",
        "        return n * factorial(n-1)\n",
        "\n",
        "number = int(input(\"Enter a number: \"))\n",
        "result = factorial(number)\n",
        "print(\"Factorial:\", result)\n"
      ],
      "metadata": {
        "colab": {
          "base_uri": "https://localhost:8080/"
        },
        "id": "-XrAapd8TYKw",
        "outputId": "f25103fc-bc9f-4b0a-9f76-d02db316c466"
      },
      "execution_count": 35,
      "outputs": [
        {
          "output_type": "stream",
          "name": "stdout",
          "text": [
            "Enter a number: 5\n",
            "Factorial: 120\n"
          ]
        }
      ]
    },
    {
      "cell_type": "markdown",
      "source": [
        "Question 3: String Reversal\n",
        "Write a Python program that defines a function to reverse a string using a method and then calls the function."
      ],
      "metadata": {
        "id": "NQPuthBKTlRZ"
      }
    },
    {
      "cell_type": "code",
      "source": [
        "# Solution 3\n",
        "def reverse_string(input_str):\n",
        "    return input_str[::-1]\n",
        "\n",
        "user_input = input(\"Enter a string: \")\n",
        "result = reverse_string(user_input)\n",
        "print(\"Reversed String:\", result)\n"
      ],
      "metadata": {
        "colab": {
          "base_uri": "https://localhost:8080/"
        },
        "id": "ciBdR7_7TgUl",
        "outputId": "4358e2d5-9f70-4ad1-d868-7a4295aee2f8"
      },
      "execution_count": 36,
      "outputs": [
        {
          "output_type": "stream",
          "name": "stdout",
          "text": [
            "Enter a string: sandeep\n",
            "Reversed String: peednas\n"
          ]
        }
      ]
    },
    {
      "cell_type": "markdown",
      "source": [
        "Question 4: List Sorting\n",
        "Write a Python program that defines a function to sort a list using a method and then calls the function."
      ],
      "metadata": {
        "id": "g_GpnGOFTtu9"
      }
    },
    {
      "cell_type": "code",
      "source": [
        "# Solution 4\n",
        "def sort_list(input_list):\n",
        "    return sorted(input_list)\n",
        "\n",
        "numbers = [3, 1, 4, 1, 5, 9, 2]\n",
        "result = sort_list(numbers)\n",
        "print(\"Sorted List:\", result)\n"
      ],
      "metadata": {
        "colab": {
          "base_uri": "https://localhost:8080/"
        },
        "id": "IbskjL6fTotD",
        "outputId": "78d0e40a-24da-4984-a8f5-af46868d2d5d"
      },
      "execution_count": 37,
      "outputs": [
        {
          "output_type": "stream",
          "name": "stdout",
          "text": [
            "Sorted List: [1, 1, 2, 3, 4, 5, 9]\n"
          ]
        }
      ]
    },
    {
      "cell_type": "markdown",
      "source": [
        "Question 5: Dictionary Update\n",
        "Write a Python program that defines a function to update a dictionary using a method and then calls the function."
      ],
      "metadata": {
        "id": "tg_xpVAUT0ow"
      }
    },
    {
      "cell_type": "code",
      "source": [
        "# Solution 5\n",
        "def update_dictionary(original_dict, new_values):\n",
        "    original_dict.update(new_values)\n",
        "    return original_dict\n",
        "\n",
        "my_dict = {\"name\": \"Alice\", \"age\": 25}\n",
        "new_values = {\"city\": \"Wonderland\", \"gender\": \"Female\"}\n",
        "result = update_dictionary(my_dict, new_values)\n",
        "print(\"Updated Dictionary:\", result)\n"
      ],
      "metadata": {
        "colab": {
          "base_uri": "https://localhost:8080/"
        },
        "id": "1E2ChHitTv1z",
        "outputId": "45cd5101-6cb1-43ce-dab3-e118cf10cc87"
      },
      "execution_count": 38,
      "outputs": [
        {
          "output_type": "stream",
          "name": "stdout",
          "text": [
            "Updated Dictionary: {'name': 'Alice', 'age': 25, 'city': 'Wonderland', 'gender': 'Female'}\n"
          ]
        }
      ]
    },
    {
      "cell_type": "markdown",
      "source": [
        "Intersection of Lists"
      ],
      "metadata": {
        "id": "iGuTHQG0T_fp"
      }
    },
    {
      "cell_type": "markdown",
      "source": [
        "Question: Common Elements\n",
        "Write a Python program that takes two lists as input from the user and finds and prints the common elements (intersection) between them"
      ],
      "metadata": {
        "id": "jBp1o3bYUJo4"
      }
    },
    {
      "cell_type": "code",
      "source": [
        "# Solution\n",
        "def find_intersection(list1, list2):\n",
        "    return list(set(list1) & set(list2))\n",
        "\n",
        "# Input lists from the user\n",
        "list1 = input(\"Enter elements of the first list separated by space: \").split()\n",
        "list2 = input(\"Enter elements of the second list separated by space: \").split()\n",
        "\n",
        "# Find and print the intersection of the two lists\n",
        "intersection_result = find_intersection(list1, list2)\n",
        "print(\"Common Elements:\", intersection_result)\n"
      ],
      "metadata": {
        "colab": {
          "base_uri": "https://localhost:8080/"
        },
        "id": "0l3mtFyET3Bk",
        "outputId": "66006c3a-a71c-4c9d-c2d1-a604da2b18ef"
      },
      "execution_count": 39,
      "outputs": [
        {
          "output_type": "stream",
          "name": "stdout",
          "text": [
            "Enter elements of the first list separated by space: 2 3 4 4 5\n",
            "Enter elements of the second list separated by space: 3 4 5 6 6 \n",
            "Common Elements: ['3', '5', '4']\n"
          ]
        }
      ]
    },
    {
      "cell_type": "markdown",
      "source": [
        "Space & Time Complexity"
      ],
      "metadata": {
        "id": "5ngfIrbzUVru"
      }
    },
    {
      "cell_type": "markdown",
      "source": [
        "Question: Sum of Squares\n",
        "Write a Python program to find the sum of the squares of the first N natural numbers. Additionally, analyze the space and time complexity of your solution."
      ],
      "metadata": {
        "id": "r_V8OHbKUe5i"
      }
    },
    {
      "cell_type": "code",
      "source": [
        "# Solution\n",
        "def sum_of_squares(n):\n",
        "    # Time complexity: O(n)\n",
        "    # Space complexity: O(1)\n",
        "    return sum(x**2 for x in range(1, n+1))\n",
        "\n",
        "# Input: Get N from the user\n",
        "N = int(input(\"Enter a positive integer (N): \"))\n",
        "\n",
        "# Output: Calculate and print the sum of squares\n",
        "result = sum_of_squares(N)\n",
        "print(f\"Sum of squares of the first {N} natural numbers:\", result)\n",
        "\n"
      ],
      "metadata": {
        "colab": {
          "base_uri": "https://localhost:8080/"
        },
        "id": "ZUzufeTuUL87",
        "outputId": "7de48904-8223-43d6-b5aa-f9a7456b1e47"
      },
      "execution_count": 40,
      "outputs": [
        {
          "output_type": "stream",
          "name": "stdout",
          "text": [
            "Enter a positive integer (N): 44\n",
            "Sum of squares of the first 44 natural numbers: 29370\n"
          ]
        }
      ]
    },
    {
      "cell_type": "markdown",
      "source": [
        "Python Libraries"
      ],
      "metadata": {
        "id": "cO4yrsgNUqOK"
      }
    },
    {
      "cell_type": "markdown",
      "source": [
        "Introduction to Numpy"
      ],
      "metadata": {
        "id": "Vq4RvvqfUt-o"
      }
    },
    {
      "cell_type": "markdown",
      "source": [
        "Question 1: NumPy Array Creation\n",
        "Write a Python program that uses NumPy to create a 1D array of integers from 1 to 5."
      ],
      "metadata": {
        "id": "5RnMg-sFVnYK"
      }
    },
    {
      "cell_type": "code",
      "source": [
        "# Solution 1\n",
        "import numpy as np\n",
        "\n",
        "# Create a 1D NumPy array\n",
        "arr = np.array([1, 2, 3, 4, 5])\n",
        "\n",
        "print(\"NumPy 1D Array:\")\n",
        "print(arr)\n"
      ],
      "metadata": {
        "colab": {
          "base_uri": "https://localhost:8080/"
        },
        "id": "8Z3zkMaoUiJi",
        "outputId": "8eb56236-ff00-4016-fdbf-5af3355e0331"
      },
      "execution_count": 41,
      "outputs": [
        {
          "output_type": "stream",
          "name": "stdout",
          "text": [
            "NumPy 1D Array:\n",
            "[1 2 3 4 5]\n"
          ]
        }
      ]
    },
    {
      "cell_type": "markdown",
      "source": [
        "Question 2: NumPy Array Operations\n",
        "Write a Python program that uses NumPy to perform basic operations on two 1D arrays (addition, subtraction, multiplication, and division).\n",
        "\n"
      ],
      "metadata": {
        "id": "QUcUBZBnVsmK"
      }
    },
    {
      "cell_type": "code",
      "source": [
        "# Solution 2\n",
        "import numpy as np\n",
        "\n",
        "# Create two 1D NumPy arrays\n",
        "arr1 = np.array([1, 2, 3, 4, 5])\n",
        "arr2 = np.array([5, 4, 3, 2, 1])\n",
        "\n",
        "# Perform array operations\n",
        "sum_result = arr1 + arr2\n",
        "difference_result = arr1 - arr2\n",
        "product_result = arr1 * arr2\n",
        "division_result = arr1 / arr2\n",
        "\n",
        "print(\"Sum Result:\", sum_result)\n",
        "print(\"Difference Result:\", difference_result)\n",
        "print(\"Product Result:\", product_result)\n",
        "print(\"Division Result:\", division_result)\n"
      ],
      "metadata": {
        "colab": {
          "base_uri": "https://localhost:8080/"
        },
        "id": "R0XcdB9PVp1Y",
        "outputId": "4c9e07fd-8c27-442b-d8a5-c7c6bd84b276"
      },
      "execution_count": 42,
      "outputs": [
        {
          "output_type": "stream",
          "name": "stdout",
          "text": [
            "Sum Result: [6 6 6 6 6]\n",
            "Difference Result: [-4 -2  0  2  4]\n",
            "Product Result: [5 8 9 8 5]\n",
            "Division Result: [0.2 0.5 1.  2.  5. ]\n"
          ]
        }
      ]
    },
    {
      "cell_type": "markdown",
      "source": [
        "Question 3: NumPy Matrix Multiplication\n",
        "Write a Python program that uses NumPy to perform matrix multiplication of two 2D arrays."
      ],
      "metadata": {
        "id": "XS3MVF0jV1xd"
      }
    },
    {
      "cell_type": "code",
      "source": [
        "# Solution 3\n",
        "import numpy as np\n",
        "\n",
        "# Create two 2D NumPy arrays\n",
        "matrix1 = np.array([[1, 2], [3, 4]])\n",
        "matrix2 = np.array([[5, 6], [7, 8]])\n",
        "\n",
        "# Perform matrix multiplication\n",
        "multiplication_result = np.dot(matrix1, matrix2)\n",
        "\n",
        "print(\"Matrix Multiplication Result:\")\n",
        "print(multiplication_result)\n"
      ],
      "metadata": {
        "colab": {
          "base_uri": "https://localhost:8080/"
        },
        "id": "WYRSzf-kVw38",
        "outputId": "8a522841-d1cd-4ddc-88fb-e217ac606400"
      },
      "execution_count": 43,
      "outputs": [
        {
          "output_type": "stream",
          "name": "stdout",
          "text": [
            "Matrix Multiplication Result:\n",
            "[[19 22]\n",
            " [43 50]]\n"
          ]
        }
      ]
    },
    {
      "cell_type": "markdown",
      "source": [
        "Question 4: NumPy Random Numbers\n",
        "Write a Python program that uses NumPy to generate an array of 5 random integers between 1 and 10."
      ],
      "metadata": {
        "id": "CWcgE3chV7rJ"
      }
    },
    {
      "cell_type": "code",
      "source": [
        "# Solution 4\n",
        "import numpy as np\n",
        "\n",
        "# Generate random integers\n",
        "random_integers = np.random.randint(1, 11, size=5)\n",
        "\n",
        "print(\"Random Integers:\")\n",
        "print(random_integers)\n"
      ],
      "metadata": {
        "colab": {
          "base_uri": "https://localhost:8080/"
        },
        "id": "Sw9TevSmV38k",
        "outputId": "4d0a0b93-ac56-44ca-cf26-717529b4ef76"
      },
      "execution_count": 44,
      "outputs": [
        {
          "output_type": "stream",
          "name": "stdout",
          "text": [
            "Random Integers:\n",
            "[10  9  4  7  8]\n"
          ]
        }
      ]
    },
    {
      "cell_type": "markdown",
      "source": [
        "Question 5: NumPy Indexing and Slicing\n",
        "Write a Python program that uses NumPy to demonstrate indexing and slicing of a 1D array.\n",
        "\n"
      ],
      "metadata": {
        "id": "EJFaj0pKWBSV"
      }
    },
    {
      "cell_type": "code",
      "source": [
        "# Solution 5\n",
        "import numpy as np\n",
        "\n",
        "# Create a 1D NumPy array\n",
        "arr = np.array([0, 1, 2, 3, 4, 5, 6, 7, 8, 9])\n",
        "\n",
        "# Indexing and slicing\n",
        "element_at_index_3 = arr[3]\n",
        "sliced_array = arr[2:7]\n",
        "\n",
        "print(\"Element at index 3:\", element_at_index_3)\n",
        "print(\"Sliced Array:\", sliced_array)\n"
      ],
      "metadata": {
        "colab": {
          "base_uri": "https://localhost:8080/"
        },
        "id": "m0mzk4GjV9lM",
        "outputId": "32ca1fcc-453b-45cc-c6a7-463c5ae22222"
      },
      "execution_count": 45,
      "outputs": [
        {
          "output_type": "stream",
          "name": "stdout",
          "text": [
            "Element at index 3: 3\n",
            "Sliced Array: [2 3 4 5 6]\n"
          ]
        }
      ]
    },
    {
      "cell_type": "markdown",
      "source": [
        "Numpy Operations"
      ],
      "metadata": {
        "id": "1JxriJDZWO1J"
      }
    },
    {
      "cell_type": "markdown",
      "source": [
        "Question 1: Sum of Array Elements\n",
        "Write a Python program that uses NumPy to calculate the sum of elements in a 1D array"
      ],
      "metadata": {
        "id": "5I8fnyLsWa3J"
      }
    },
    {
      "cell_type": "code",
      "source": [
        "# Solution 1\n",
        "import numpy as np\n",
        "\n",
        "# Create a 1D NumPy array\n",
        "arr = np.array([1, 2, 3, 4, 5])\n",
        "\n",
        "# Calculate the sum of array elements\n",
        "sum_result = np.sum(arr)\n",
        "\n",
        "print(\"Sum of Array Elements:\", sum_result)\n"
      ],
      "metadata": {
        "colab": {
          "base_uri": "https://localhost:8080/"
        },
        "id": "RjBYBZCdWDUU",
        "outputId": "247a6f35-a049-4c1d-a61d-372e4f3fda0d"
      },
      "execution_count": 46,
      "outputs": [
        {
          "output_type": "stream",
          "name": "stdout",
          "text": [
            "Sum of Array Elements: 15\n"
          ]
        }
      ]
    },
    {
      "cell_type": "markdown",
      "source": [
        "Question 2: Mean and Standard Deviation\n",
        "Write a Python program that uses NumPy to calculate the mean and standard deviation of elements in a 1D array."
      ],
      "metadata": {
        "id": "X0S968xHWgoX"
      }
    },
    {
      "cell_type": "code",
      "source": [
        "# Solution 2\n",
        "import numpy as np\n",
        "\n",
        "# Create a 1D NumPy array\n",
        "arr = np.array([1, 2, 3, 4, 5])\n",
        "\n",
        "# Calculate mean and standard deviation\n",
        "mean_result = np.mean(arr)\n",
        "std_dev_result = np.std(arr)\n",
        "\n",
        "print(\"Mean:\", mean_result)\n",
        "print(\"Standard Deviation:\", std_dev_result)\n"
      ],
      "metadata": {
        "colab": {
          "base_uri": "https://localhost:8080/"
        },
        "id": "RAgFgUlZWcz6",
        "outputId": "605ebc40-79fc-457f-ca8e-67fec99f2489"
      },
      "execution_count": 47,
      "outputs": [
        {
          "output_type": "stream",
          "name": "stdout",
          "text": [
            "Mean: 3.0\n",
            "Standard Deviation: 1.4142135623730951\n"
          ]
        }
      ]
    },
    {
      "cell_type": "markdown",
      "source": [
        "Question 3: Reshape and Transpose\n",
        "Write a Python program that uses NumPy to reshape and transpose a 2D array."
      ],
      "metadata": {
        "id": "HHiCidiJWl0J"
      }
    },
    {
      "cell_type": "code",
      "source": [
        "# Solution 3\n",
        "import numpy as np\n",
        "\n",
        "# Create a 2D NumPy array\n",
        "matrix = np.array([[1, 2, 3], [4, 5, 6]])\n",
        "\n",
        "# Reshape and transpose the array\n",
        "reshaped_array = matrix.reshape((3, 2))\n",
        "transposed_array = matrix.T\n",
        "\n",
        "print(\"Reshaped Array:\")\n",
        "print(reshaped_array)\n",
        "print(\"Transposed Array:\")\n",
        "print(transposed_array)\n"
      ],
      "metadata": {
        "colab": {
          "base_uri": "https://localhost:8080/"
        },
        "id": "K3jEwnUoWirP",
        "outputId": "86d14c28-fb61-4ae0-d271-f9b8aa7879ef"
      },
      "execution_count": 48,
      "outputs": [
        {
          "output_type": "stream",
          "name": "stdout",
          "text": [
            "Reshaped Array:\n",
            "[[1 2]\n",
            " [3 4]\n",
            " [5 6]]\n",
            "Transposed Array:\n",
            "[[1 4]\n",
            " [2 5]\n",
            " [3 6]]\n"
          ]
        }
      ]
    },
    {
      "cell_type": "markdown",
      "source": [
        "Question 4: Element-wise Operations\n",
        "Write a Python program that uses NumPy to perform element-wise operations on a 1D array."
      ],
      "metadata": {
        "id": "LsFXw3y1Wqwp"
      }
    },
    {
      "cell_type": "code",
      "source": [
        "# Solution 4\n",
        "import numpy as np\n",
        "\n",
        "# Create a 1D NumPy array\n",
        "arr = np.array([1, 2, 3, 4, 5])\n",
        "\n",
        "# Perform element-wise operations\n",
        "squared_array = np.square(arr)\n",
        "sqrt_array = np.sqrt(arr)\n",
        "log_array = np.log(arr)\n",
        "\n",
        "print(\"Squared Array:\", squared_array)\n",
        "print(\"Square Root Array:\", sqrt_array)\n",
        "print(\"Logarithm Array:\", log_array)\n"
      ],
      "metadata": {
        "colab": {
          "base_uri": "https://localhost:8080/"
        },
        "id": "P0aguIi_Wn6s",
        "outputId": "8abec995-470b-4ae2-9397-591bc1046415"
      },
      "execution_count": 49,
      "outputs": [
        {
          "output_type": "stream",
          "name": "stdout",
          "text": [
            "Squared Array: [ 1  4  9 16 25]\n",
            "Square Root Array: [1.         1.41421356 1.73205081 2.         2.23606798]\n",
            "Logarithm Array: [0.         0.69314718 1.09861229 1.38629436 1.60943791]\n"
          ]
        }
      ]
    },
    {
      "cell_type": "markdown",
      "source": [
        "Question 5: Matrix Multiplication\n",
        "Write a Python program that uses NumPy to perform matrix multiplication of two 2D arrays."
      ],
      "metadata": {
        "id": "WG9FMGz_Wv1H"
      }
    },
    {
      "cell_type": "code",
      "source": [
        "# Solution 5\n",
        "import numpy as np\n",
        "\n",
        "# Create two 2D NumPy arrays\n",
        "matrix1 = np.array([[1, 2], [3, 4]])\n",
        "matrix2 = np.array([[5, 6], [7, 8]])\n",
        "\n",
        "# Perform matrix multiplication\n",
        "multiplication_result = np.dot(matrix1, matrix2)\n",
        "\n",
        "print(\"Matrix Multiplication Result:\")\n",
        "print(multiplication_result)\n"
      ],
      "metadata": {
        "colab": {
          "base_uri": "https://localhost:8080/"
        },
        "id": "ZtqPBbC2Wsvv",
        "outputId": "1f1146ad-b9b2-4c33-a35c-34d4aacb4205"
      },
      "execution_count": 50,
      "outputs": [
        {
          "output_type": "stream",
          "name": "stdout",
          "text": [
            "Matrix Multiplication Result:\n",
            "[[19 22]\n",
            " [43 50]]\n"
          ]
        }
      ]
    },
    {
      "cell_type": "markdown",
      "source": [
        "Introduction to Pandas"
      ],
      "metadata": {
        "id": "sXsQypNoW3wj"
      }
    },
    {
      "cell_type": "markdown",
      "source": [
        "Question 1: Creating a DataFrame\n",
        "Write a Python program that uses pandas to create a DataFrame from a dictionary."
      ],
      "metadata": {
        "id": "kW1gL5W3Yn6T"
      }
    },
    {
      "cell_type": "code",
      "source": [
        "# Solution 1\n",
        "import pandas as pd\n",
        "\n",
        "# Create a dictionary\n",
        "data = {'Name': ['Alice', 'Bob', 'Charlie'],\n",
        "        'Age': [25, 30, 22],\n",
        "        'City': ['New York', 'San Francisco', 'Los Angeles']}\n",
        "\n",
        "# Create a DataFrame\n",
        "df = pd.DataFrame(data)\n",
        "\n",
        "print(\"DataFrame:\")\n",
        "print(df)\n"
      ],
      "metadata": {
        "colab": {
          "base_uri": "https://localhost:8080/"
        },
        "id": "bxvxzeuqWx68",
        "outputId": "63e1a998-260e-4d6c-c664-4ddfcb10dfff"
      },
      "execution_count": 51,
      "outputs": [
        {
          "output_type": "stream",
          "name": "stdout",
          "text": [
            "DataFrame:\n",
            "      Name  Age           City\n",
            "0    Alice   25       New York\n",
            "1      Bob   30  San Francisco\n",
            "2  Charlie   22    Los Angeles\n"
          ]
        }
      ]
    },
    {
      "cell_type": "markdown",
      "source": [
        "Question 2: Reading CSV File\n",
        "Write a Python program that uses pandas to read a CSV file and display its content."
      ],
      "metadata": {
        "id": "6jyMaW8eYwL-"
      }
    },
    {
      "cell_type": "code",
      "source": [
        "# Solution 2\n",
        "import pandas as pd\n",
        "\n",
        "# Read a CSV file into a DataFrame\n",
        "df = pd.read_csv('example.csv')  # Replace 'example.csv' with the actual CSV file path\n",
        "\n",
        "# Display the DataFrame\n",
        "print(\"DataFrame from CSV:\")\n",
        "print(df)\n"
      ],
      "metadata": {
        "colab": {
          "base_uri": "https://localhost:8080/",
          "height": 390
        },
        "id": "hAtiGYokYsuM",
        "outputId": "012a6aa6-799c-48c5-ec39-c8932af864c4"
      },
      "execution_count": 52,
      "outputs": [
        {
          "output_type": "error",
          "ename": "FileNotFoundError",
          "evalue": "ignored",
          "traceback": [
            "\u001b[0;31m---------------------------------------------------------------------------\u001b[0m",
            "\u001b[0;31mFileNotFoundError\u001b[0m                         Traceback (most recent call last)",
            "\u001b[0;32m<ipython-input-52-bfcec04cb607>\u001b[0m in \u001b[0;36m<cell line: 5>\u001b[0;34m()\u001b[0m\n\u001b[1;32m      3\u001b[0m \u001b[0;34m\u001b[0m\u001b[0m\n\u001b[1;32m      4\u001b[0m \u001b[0;31m# Read a CSV file into a DataFrame\u001b[0m\u001b[0;34m\u001b[0m\u001b[0;34m\u001b[0m\u001b[0m\n\u001b[0;32m----> 5\u001b[0;31m \u001b[0mdf\u001b[0m \u001b[0;34m=\u001b[0m \u001b[0mpd\u001b[0m\u001b[0;34m.\u001b[0m\u001b[0mread_csv\u001b[0m\u001b[0;34m(\u001b[0m\u001b[0;34m'example.csv'\u001b[0m\u001b[0;34m)\u001b[0m  \u001b[0;31m# Replace 'example.csv' with the actual CSV file path\u001b[0m\u001b[0;34m\u001b[0m\u001b[0;34m\u001b[0m\u001b[0m\n\u001b[0m\u001b[1;32m      6\u001b[0m \u001b[0;34m\u001b[0m\u001b[0m\n\u001b[1;32m      7\u001b[0m \u001b[0;31m# Display the DataFrame\u001b[0m\u001b[0;34m\u001b[0m\u001b[0;34m\u001b[0m\u001b[0m\n",
            "\u001b[0;32m/usr/local/lib/python3.10/dist-packages/pandas/util/_decorators.py\u001b[0m in \u001b[0;36mwrapper\u001b[0;34m(*args, **kwargs)\u001b[0m\n\u001b[1;32m    209\u001b[0m                 \u001b[0;32melse\u001b[0m\u001b[0;34m:\u001b[0m\u001b[0;34m\u001b[0m\u001b[0;34m\u001b[0m\u001b[0m\n\u001b[1;32m    210\u001b[0m                     \u001b[0mkwargs\u001b[0m\u001b[0;34m[\u001b[0m\u001b[0mnew_arg_name\u001b[0m\u001b[0;34m]\u001b[0m \u001b[0;34m=\u001b[0m \u001b[0mnew_arg_value\u001b[0m\u001b[0;34m\u001b[0m\u001b[0;34m\u001b[0m\u001b[0m\n\u001b[0;32m--> 211\u001b[0;31m             \u001b[0;32mreturn\u001b[0m \u001b[0mfunc\u001b[0m\u001b[0;34m(\u001b[0m\u001b[0;34m*\u001b[0m\u001b[0margs\u001b[0m\u001b[0;34m,\u001b[0m \u001b[0;34m**\u001b[0m\u001b[0mkwargs\u001b[0m\u001b[0;34m)\u001b[0m\u001b[0;34m\u001b[0m\u001b[0;34m\u001b[0m\u001b[0m\n\u001b[0m\u001b[1;32m    212\u001b[0m \u001b[0;34m\u001b[0m\u001b[0m\n\u001b[1;32m    213\u001b[0m         \u001b[0;32mreturn\u001b[0m \u001b[0mcast\u001b[0m\u001b[0;34m(\u001b[0m\u001b[0mF\u001b[0m\u001b[0;34m,\u001b[0m \u001b[0mwrapper\u001b[0m\u001b[0;34m)\u001b[0m\u001b[0;34m\u001b[0m\u001b[0;34m\u001b[0m\u001b[0m\n",
            "\u001b[0;32m/usr/local/lib/python3.10/dist-packages/pandas/util/_decorators.py\u001b[0m in \u001b[0;36mwrapper\u001b[0;34m(*args, **kwargs)\u001b[0m\n\u001b[1;32m    329\u001b[0m                     \u001b[0mstacklevel\u001b[0m\u001b[0;34m=\u001b[0m\u001b[0mfind_stack_level\u001b[0m\u001b[0;34m(\u001b[0m\u001b[0;34m)\u001b[0m\u001b[0;34m,\u001b[0m\u001b[0;34m\u001b[0m\u001b[0;34m\u001b[0m\u001b[0m\n\u001b[1;32m    330\u001b[0m                 )\n\u001b[0;32m--> 331\u001b[0;31m             \u001b[0;32mreturn\u001b[0m \u001b[0mfunc\u001b[0m\u001b[0;34m(\u001b[0m\u001b[0;34m*\u001b[0m\u001b[0margs\u001b[0m\u001b[0;34m,\u001b[0m \u001b[0;34m**\u001b[0m\u001b[0mkwargs\u001b[0m\u001b[0;34m)\u001b[0m\u001b[0;34m\u001b[0m\u001b[0;34m\u001b[0m\u001b[0m\n\u001b[0m\u001b[1;32m    332\u001b[0m \u001b[0;34m\u001b[0m\u001b[0m\n\u001b[1;32m    333\u001b[0m         \u001b[0;31m# error: \"Callable[[VarArg(Any), KwArg(Any)], Any]\" has no\u001b[0m\u001b[0;34m\u001b[0m\u001b[0;34m\u001b[0m\u001b[0m\n",
            "\u001b[0;32m/usr/local/lib/python3.10/dist-packages/pandas/io/parsers/readers.py\u001b[0m in \u001b[0;36mread_csv\u001b[0;34m(filepath_or_buffer, sep, delimiter, header, names, index_col, usecols, squeeze, prefix, mangle_dupe_cols, dtype, engine, converters, true_values, false_values, skipinitialspace, skiprows, skipfooter, nrows, na_values, keep_default_na, na_filter, verbose, skip_blank_lines, parse_dates, infer_datetime_format, keep_date_col, date_parser, dayfirst, cache_dates, iterator, chunksize, compression, thousands, decimal, lineterminator, quotechar, quoting, doublequote, escapechar, comment, encoding, encoding_errors, dialect, error_bad_lines, warn_bad_lines, on_bad_lines, delim_whitespace, low_memory, memory_map, float_precision, storage_options)\u001b[0m\n\u001b[1;32m    948\u001b[0m     \u001b[0mkwds\u001b[0m\u001b[0;34m.\u001b[0m\u001b[0mupdate\u001b[0m\u001b[0;34m(\u001b[0m\u001b[0mkwds_defaults\u001b[0m\u001b[0;34m)\u001b[0m\u001b[0;34m\u001b[0m\u001b[0;34m\u001b[0m\u001b[0m\n\u001b[1;32m    949\u001b[0m \u001b[0;34m\u001b[0m\u001b[0m\n\u001b[0;32m--> 950\u001b[0;31m     \u001b[0;32mreturn\u001b[0m \u001b[0m_read\u001b[0m\u001b[0;34m(\u001b[0m\u001b[0mfilepath_or_buffer\u001b[0m\u001b[0;34m,\u001b[0m \u001b[0mkwds\u001b[0m\u001b[0;34m)\u001b[0m\u001b[0;34m\u001b[0m\u001b[0;34m\u001b[0m\u001b[0m\n\u001b[0m\u001b[1;32m    951\u001b[0m \u001b[0;34m\u001b[0m\u001b[0m\n\u001b[1;32m    952\u001b[0m \u001b[0;34m\u001b[0m\u001b[0m\n",
            "\u001b[0;32m/usr/local/lib/python3.10/dist-packages/pandas/io/parsers/readers.py\u001b[0m in \u001b[0;36m_read\u001b[0;34m(filepath_or_buffer, kwds)\u001b[0m\n\u001b[1;32m    603\u001b[0m \u001b[0;34m\u001b[0m\u001b[0m\n\u001b[1;32m    604\u001b[0m     \u001b[0;31m# Create the parser.\u001b[0m\u001b[0;34m\u001b[0m\u001b[0;34m\u001b[0m\u001b[0m\n\u001b[0;32m--> 605\u001b[0;31m     \u001b[0mparser\u001b[0m \u001b[0;34m=\u001b[0m \u001b[0mTextFileReader\u001b[0m\u001b[0;34m(\u001b[0m\u001b[0mfilepath_or_buffer\u001b[0m\u001b[0;34m,\u001b[0m \u001b[0;34m**\u001b[0m\u001b[0mkwds\u001b[0m\u001b[0;34m)\u001b[0m\u001b[0;34m\u001b[0m\u001b[0;34m\u001b[0m\u001b[0m\n\u001b[0m\u001b[1;32m    606\u001b[0m \u001b[0;34m\u001b[0m\u001b[0m\n\u001b[1;32m    607\u001b[0m     \u001b[0;32mif\u001b[0m \u001b[0mchunksize\u001b[0m \u001b[0;32mor\u001b[0m \u001b[0miterator\u001b[0m\u001b[0;34m:\u001b[0m\u001b[0;34m\u001b[0m\u001b[0;34m\u001b[0m\u001b[0m\n",
            "\u001b[0;32m/usr/local/lib/python3.10/dist-packages/pandas/io/parsers/readers.py\u001b[0m in \u001b[0;36m__init__\u001b[0;34m(self, f, engine, **kwds)\u001b[0m\n\u001b[1;32m   1440\u001b[0m \u001b[0;34m\u001b[0m\u001b[0m\n\u001b[1;32m   1441\u001b[0m         \u001b[0mself\u001b[0m\u001b[0;34m.\u001b[0m\u001b[0mhandles\u001b[0m\u001b[0;34m:\u001b[0m \u001b[0mIOHandles\u001b[0m \u001b[0;34m|\u001b[0m \u001b[0;32mNone\u001b[0m \u001b[0;34m=\u001b[0m \u001b[0;32mNone\u001b[0m\u001b[0;34m\u001b[0m\u001b[0;34m\u001b[0m\u001b[0m\n\u001b[0;32m-> 1442\u001b[0;31m         \u001b[0mself\u001b[0m\u001b[0;34m.\u001b[0m\u001b[0m_engine\u001b[0m \u001b[0;34m=\u001b[0m \u001b[0mself\u001b[0m\u001b[0;34m.\u001b[0m\u001b[0m_make_engine\u001b[0m\u001b[0;34m(\u001b[0m\u001b[0mf\u001b[0m\u001b[0;34m,\u001b[0m \u001b[0mself\u001b[0m\u001b[0;34m.\u001b[0m\u001b[0mengine\u001b[0m\u001b[0;34m)\u001b[0m\u001b[0;34m\u001b[0m\u001b[0;34m\u001b[0m\u001b[0m\n\u001b[0m\u001b[1;32m   1443\u001b[0m \u001b[0;34m\u001b[0m\u001b[0m\n\u001b[1;32m   1444\u001b[0m     \u001b[0;32mdef\u001b[0m \u001b[0mclose\u001b[0m\u001b[0;34m(\u001b[0m\u001b[0mself\u001b[0m\u001b[0;34m)\u001b[0m \u001b[0;34m->\u001b[0m \u001b[0;32mNone\u001b[0m\u001b[0;34m:\u001b[0m\u001b[0;34m\u001b[0m\u001b[0;34m\u001b[0m\u001b[0m\n",
            "\u001b[0;32m/usr/local/lib/python3.10/dist-packages/pandas/io/parsers/readers.py\u001b[0m in \u001b[0;36m_make_engine\u001b[0;34m(self, f, engine)\u001b[0m\n\u001b[1;32m   1733\u001b[0m                 \u001b[0;32mif\u001b[0m \u001b[0;34m\"b\"\u001b[0m \u001b[0;32mnot\u001b[0m \u001b[0;32min\u001b[0m \u001b[0mmode\u001b[0m\u001b[0;34m:\u001b[0m\u001b[0;34m\u001b[0m\u001b[0;34m\u001b[0m\u001b[0m\n\u001b[1;32m   1734\u001b[0m                     \u001b[0mmode\u001b[0m \u001b[0;34m+=\u001b[0m \u001b[0;34m\"b\"\u001b[0m\u001b[0;34m\u001b[0m\u001b[0;34m\u001b[0m\u001b[0m\n\u001b[0;32m-> 1735\u001b[0;31m             self.handles = get_handle(\n\u001b[0m\u001b[1;32m   1736\u001b[0m                 \u001b[0mf\u001b[0m\u001b[0;34m,\u001b[0m\u001b[0;34m\u001b[0m\u001b[0;34m\u001b[0m\u001b[0m\n\u001b[1;32m   1737\u001b[0m                 \u001b[0mmode\u001b[0m\u001b[0;34m,\u001b[0m\u001b[0;34m\u001b[0m\u001b[0;34m\u001b[0m\u001b[0m\n",
            "\u001b[0;32m/usr/local/lib/python3.10/dist-packages/pandas/io/common.py\u001b[0m in \u001b[0;36mget_handle\u001b[0;34m(path_or_buf, mode, encoding, compression, memory_map, is_text, errors, storage_options)\u001b[0m\n\u001b[1;32m    854\u001b[0m         \u001b[0;32mif\u001b[0m \u001b[0mioargs\u001b[0m\u001b[0;34m.\u001b[0m\u001b[0mencoding\u001b[0m \u001b[0;32mand\u001b[0m \u001b[0;34m\"b\"\u001b[0m \u001b[0;32mnot\u001b[0m \u001b[0;32min\u001b[0m \u001b[0mioargs\u001b[0m\u001b[0;34m.\u001b[0m\u001b[0mmode\u001b[0m\u001b[0;34m:\u001b[0m\u001b[0;34m\u001b[0m\u001b[0;34m\u001b[0m\u001b[0m\n\u001b[1;32m    855\u001b[0m             \u001b[0;31m# Encoding\u001b[0m\u001b[0;34m\u001b[0m\u001b[0;34m\u001b[0m\u001b[0m\n\u001b[0;32m--> 856\u001b[0;31m             handle = open(\n\u001b[0m\u001b[1;32m    857\u001b[0m                 \u001b[0mhandle\u001b[0m\u001b[0;34m,\u001b[0m\u001b[0;34m\u001b[0m\u001b[0;34m\u001b[0m\u001b[0m\n\u001b[1;32m    858\u001b[0m                 \u001b[0mioargs\u001b[0m\u001b[0;34m.\u001b[0m\u001b[0mmode\u001b[0m\u001b[0;34m,\u001b[0m\u001b[0;34m\u001b[0m\u001b[0;34m\u001b[0m\u001b[0m\n",
            "\u001b[0;31mFileNotFoundError\u001b[0m: [Errno 2] No such file or directory: 'example.csv'"
          ]
        }
      ]
    },
    {
      "cell_type": "markdown",
      "source": [
        "Question 3: DataFrame Operations\n",
        "Write a Python program that uses pandas to perform basic operations on a DataFrame."
      ],
      "metadata": {
        "id": "vVjw2Zy6Y3yJ"
      }
    },
    {
      "cell_type": "code",
      "source": [
        "# Solution 3\n",
        "import pandas as pd\n",
        "\n",
        "# Create a DataFrame\n",
        "data = {'Name': ['Alice', 'Bob', 'Charlie'],\n",
        "        'Age': [25, 30, 22],\n",
        "        'City': ['New York', 'San Francisco', 'Los Angeles']}\n",
        "df = pd.DataFrame(data)\n",
        "\n",
        "# Display the DataFrame\n",
        "print(\"Original DataFrame:\")\n",
        "print(df)\n",
        "\n",
        "# Add a new column\n",
        "df['Salary'] = [50000, 60000, 45000]\n",
        "\n",
        "# Filter rows based on a condition\n",
        "filtered_df = df[df['Age'] > 23]\n",
        "\n",
        "print(\"\\nDataFrame after Operations:\")\n",
        "print(df)\n",
        "print(\"\\nFiltered DataFrame:\")\n",
        "print(filtered_df)\n"
      ],
      "metadata": {
        "colab": {
          "base_uri": "https://localhost:8080/"
        },
        "id": "SIsry39eYyr3",
        "outputId": "8718b114-4a07-4b2d-bb3e-8195c5eb00b3"
      },
      "execution_count": 53,
      "outputs": [
        {
          "output_type": "stream",
          "name": "stdout",
          "text": [
            "Original DataFrame:\n",
            "      Name  Age           City\n",
            "0    Alice   25       New York\n",
            "1      Bob   30  San Francisco\n",
            "2  Charlie   22    Los Angeles\n",
            "\n",
            "DataFrame after Operations:\n",
            "      Name  Age           City  Salary\n",
            "0    Alice   25       New York   50000\n",
            "1      Bob   30  San Francisco   60000\n",
            "2  Charlie   22    Los Angeles   45000\n",
            "\n",
            "Filtered DataFrame:\n",
            "    Name  Age           City  Salary\n",
            "0  Alice   25       New York   50000\n",
            "1    Bob   30  San Francisco   60000\n"
          ]
        }
      ]
    },
    {
      "cell_type": "markdown",
      "source": [
        "Question 4: Groupby and Aggregation\n",
        "Write a Python program that uses pandas to group data in a DataFrame and perform aggregation."
      ],
      "metadata": {
        "id": "BM9OWsxUY9GV"
      }
    },
    {
      "cell_type": "code",
      "source": [
        "# Solution 4\n",
        "import pandas as pd\n",
        "\n",
        "# Create a DataFrame\n",
        "data = {'Category': ['A', 'B', 'A', 'B', 'A'],\n",
        "        'Value': [10, 20, 15, 25, 12]}\n",
        "df = pd.DataFrame(data)\n",
        "\n",
        "# Group by 'Category' and calculate the mean for each group\n",
        "grouped_df = df.groupby('Category').mean()\n",
        "\n",
        "print(\"Original DataFrame:\")\n",
        "print(df)\n",
        "print(\"\\nGrouped DataFrame:\")\n",
        "print(grouped_df)\n"
      ],
      "metadata": {
        "colab": {
          "base_uri": "https://localhost:8080/"
        },
        "id": "xR9foSmjY6GG",
        "outputId": "d7cfb40e-a987-450e-d596-e2fbbb41d1ea"
      },
      "execution_count": 54,
      "outputs": [
        {
          "output_type": "stream",
          "name": "stdout",
          "text": [
            "Original DataFrame:\n",
            "  Category  Value\n",
            "0        A     10\n",
            "1        B     20\n",
            "2        A     15\n",
            "3        B     25\n",
            "4        A     12\n",
            "\n",
            "Grouped DataFrame:\n",
            "              Value\n",
            "Category           \n",
            "A         12.333333\n",
            "B         22.500000\n"
          ]
        }
      ]
    },
    {
      "cell_type": "markdown",
      "source": [
        "Question 5: Handling Missing Data\n",
        "Write a Python program that uses pandas to handle missing data in a DataFrame."
      ],
      "metadata": {
        "id": "Ny4vas62ZDKp"
      }
    },
    {
      "cell_type": "code",
      "source": [
        "# Solution 5\n",
        "import pandas as pd\n",
        "\n",
        "# Create a DataFrame with missing data\n",
        "data = {'Name': ['Alice', 'Bob', 'Charlie', None],\n",
        "        'Age': [25, None, 22, 30],\n",
        "        'City': ['New York', 'San Francisco', 'Los Angeles', 'Chicago']}\n",
        "df = pd.DataFrame(data)\n",
        "\n",
        "# Display the DataFrame with missing data\n",
        "print(\"DataFrame with Missing Data:\")\n",
        "print(df)\n",
        "\n",
        "# Drop rows with missing values\n",
        "df_cleaned = df.dropna()\n",
        "\n",
        "print(\"\\nDataFrame after Handling Missing Data:\")\n",
        "print(df_cleaned)\n"
      ],
      "metadata": {
        "colab": {
          "base_uri": "https://localhost:8080/"
        },
        "id": "JCGouvjYY_r7",
        "outputId": "9cbc5231-0681-4d9f-c5a7-9fd4e4c6e01e"
      },
      "execution_count": 55,
      "outputs": [
        {
          "output_type": "stream",
          "name": "stdout",
          "text": [
            "DataFrame with Missing Data:\n",
            "      Name   Age           City\n",
            "0    Alice  25.0       New York\n",
            "1      Bob   NaN  San Francisco\n",
            "2  Charlie  22.0    Los Angeles\n",
            "3     None  30.0        Chicago\n",
            "\n",
            "DataFrame after Handling Missing Data:\n",
            "      Name   Age         City\n",
            "0    Alice  25.0     New York\n",
            "2  Charlie  22.0  Los Angeles\n"
          ]
        }
      ]
    },
    {
      "cell_type": "markdown",
      "source": [
        "Pandas Operations"
      ],
      "metadata": {
        "id": "xi4A0rnMZJSH"
      }
    },
    {
      "cell_type": "markdown",
      "source": [
        "Question 1: Filtering Data\n",
        "Write a Python program that uses pandas to filter data based on a condition."
      ],
      "metadata": {
        "id": "B6DlJW3-ZVu-"
      }
    },
    {
      "cell_type": "code",
      "source": [
        "# Solution 1\n",
        "import pandas as pd\n",
        "\n",
        "# Create a DataFrame\n",
        "data = {'Name': ['Alice', 'Bob', 'Charlie', 'David'],\n",
        "        'Age': [25, 30, 22, 35],\n",
        "        'City': ['New York', 'San Francisco', 'Los Angeles', 'Chicago']}\n",
        "df = pd.DataFrame(data)\n",
        "\n",
        "# Filter rows where Age is greater than 30\n",
        "filtered_df = df[df['Age'] > 30]\n",
        "\n",
        "print(\"Original DataFrame:\")\n",
        "print(df)\n",
        "print(\"\\nFiltered DataFrame:\")\n",
        "print(filtered_df)\n"
      ],
      "metadata": {
        "colab": {
          "base_uri": "https://localhost:8080/"
        },
        "id": "_CVgypiNZFw3",
        "outputId": "a071be1b-1fbe-4685-bc50-3ad8c070a75d"
      },
      "execution_count": 56,
      "outputs": [
        {
          "output_type": "stream",
          "name": "stdout",
          "text": [
            "Original DataFrame:\n",
            "      Name  Age           City\n",
            "0    Alice   25       New York\n",
            "1      Bob   30  San Francisco\n",
            "2  Charlie   22    Los Angeles\n",
            "3    David   35        Chicago\n",
            "\n",
            "Filtered DataFrame:\n",
            "    Name  Age     City\n",
            "3  David   35  Chicago\n"
          ]
        }
      ]
    },
    {
      "cell_type": "markdown",
      "source": [
        "Question 2: Sorting Data\n",
        "Write a Python program that uses pandas to sort a DataFrame by a specific column."
      ],
      "metadata": {
        "id": "KZNDeHd4Zap-"
      }
    },
    {
      "cell_type": "code",
      "source": [
        "# Solution 2\n",
        "import pandas as pd\n",
        "\n",
        "# Create a DataFrame\n",
        "data = {'Name': ['Alice', 'Bob', 'Charlie', 'David'],\n",
        "        'Age': [25, 30, 22, 35],\n",
        "        'City': ['New York', 'San Francisco', 'Los Angeles', 'Chicago']}\n",
        "df = pd.DataFrame(data)\n",
        "\n",
        "# Sort the DataFrame by Age in descending order\n",
        "sorted_df = df.sort_values(by='Age', ascending=False)\n",
        "\n",
        "print(\"Original DataFrame:\")\n",
        "print(df)\n",
        "print(\"\\nSorted DataFrame:\")\n",
        "print(sorted_df)\n"
      ],
      "metadata": {
        "colab": {
          "base_uri": "https://localhost:8080/"
        },
        "id": "EUsHQ4sLZXy8",
        "outputId": "0bfea6e1-8cba-49eb-f785-710603ce2fd2"
      },
      "execution_count": 57,
      "outputs": [
        {
          "output_type": "stream",
          "name": "stdout",
          "text": [
            "Original DataFrame:\n",
            "      Name  Age           City\n",
            "0    Alice   25       New York\n",
            "1      Bob   30  San Francisco\n",
            "2  Charlie   22    Los Angeles\n",
            "3    David   35        Chicago\n",
            "\n",
            "Sorted DataFrame:\n",
            "      Name  Age           City\n",
            "3    David   35        Chicago\n",
            "1      Bob   30  San Francisco\n",
            "0    Alice   25       New York\n",
            "2  Charlie   22    Los Angeles\n"
          ]
        }
      ]
    },
    {
      "cell_type": "markdown",
      "source": [
        "Question 3: Groupby and Aggregation\n",
        "Write a Python program that uses pandas to group data in a DataFrame and perform aggregation."
      ],
      "metadata": {
        "id": "8IULMcoJZf-J"
      }
    },
    {
      "cell_type": "code",
      "source": [
        "# Solution 3\n",
        "import pandas as pd\n",
        "\n",
        "# Create a DataFrame\n",
        "data = {'Category': ['A', 'B', 'A', 'B', 'A'],\n",
        "        'Value': [10, 20, 15, 25, 12]}\n",
        "df = pd.DataFrame(data)\n",
        "\n",
        "# Group by 'Category' and calculate the sum and mean for each group\n",
        "grouped_df = df.groupby('Category').agg({'Value': ['sum', 'mean']})\n",
        "\n",
        "print(\"Original DataFrame:\")\n",
        "print(df)\n",
        "print(\"\\nGrouped DataFrame:\")\n",
        "print(grouped_df)\n"
      ],
      "metadata": {
        "colab": {
          "base_uri": "https://localhost:8080/"
        },
        "id": "alNrtl9rZc58",
        "outputId": "328c8e73-24d6-4e33-b3ae-2a4114714692"
      },
      "execution_count": 58,
      "outputs": [
        {
          "output_type": "stream",
          "name": "stdout",
          "text": [
            "Original DataFrame:\n",
            "  Category  Value\n",
            "0        A     10\n",
            "1        B     20\n",
            "2        A     15\n",
            "3        B     25\n",
            "4        A     12\n",
            "\n",
            "Grouped DataFrame:\n",
            "         Value           \n",
            "           sum       mean\n",
            "Category                 \n",
            "A           37  12.333333\n",
            "B           45  22.500000\n"
          ]
        }
      ]
    },
    {
      "cell_type": "markdown",
      "source": [
        "Question 4: Handling Missing Data\n",
        "Write a Python program that uses pandas to handle missing data in a DataFrame."
      ],
      "metadata": {
        "id": "LZnA1whwZk9o"
      }
    },
    {
      "cell_type": "code",
      "source": [
        "# Solution 4\n",
        "import pandas as pd\n",
        "\n",
        "# Create a DataFrame with missing data\n",
        "data = {'Name': ['Alice', 'Bob', 'Charlie', None],\n",
        "        'Age': [25, None, 22, 30],\n",
        "        'City': ['New York', 'San Francisco', 'Los Angeles', 'Chicago']}\n",
        "df = pd.DataFrame(data)\n",
        "\n",
        "# Display the DataFrame with missing data\n",
        "print(\"DataFrame with Missing Data:\")\n",
        "print(df)\n",
        "\n",
        "# Fill missing values with a default value (e.g., 0)\n",
        "df_filled = df.fillna(0)\n",
        "\n",
        "print(\"\\nDataFrame after Handling Missing Data:\")\n",
        "print(df_filled)\n"
      ],
      "metadata": {
        "colab": {
          "base_uri": "https://localhost:8080/"
        },
        "id": "EYSr8SAHZh0c",
        "outputId": "1ace5270-f930-437c-bc23-0eac09ff3f10"
      },
      "execution_count": 59,
      "outputs": [
        {
          "output_type": "stream",
          "name": "stdout",
          "text": [
            "DataFrame with Missing Data:\n",
            "      Name   Age           City\n",
            "0    Alice  25.0       New York\n",
            "1      Bob   NaN  San Francisco\n",
            "2  Charlie  22.0    Los Angeles\n",
            "3     None  30.0        Chicago\n",
            "\n",
            "DataFrame after Handling Missing Data:\n",
            "      Name   Age           City\n",
            "0    Alice  25.0       New York\n",
            "1      Bob   0.0  San Francisco\n",
            "2  Charlie  22.0    Los Angeles\n",
            "3        0  30.0        Chicago\n"
          ]
        }
      ]
    },
    {
      "cell_type": "markdown",
      "source": [
        "Question 5: Merging DataFrames\n",
        "Write a Python program that uses pandas to merge two DataFrames based on a common column.\n",
        "\n"
      ],
      "metadata": {
        "id": "6Ek9y1VQZpnt"
      }
    },
    {
      "cell_type": "code",
      "source": [
        "# Solution 5\n",
        "import pandas as pd\n",
        "\n",
        "# Create two DataFrames\n",
        "df1 = pd.DataFrame({'ID': [1, 2, 3], 'Name': ['Alice', 'Bob', 'Charlie']})\n",
        "df2 = pd.DataFrame({'ID': [2, 3, 4], 'Age': [25, 30, 22]})\n",
        "\n",
        "# Merge DataFrames on the 'ID' column\n",
        "merged_df = pd.merge(df1, df2, on='ID', how='inner')\n",
        "\n",
        "print(\"DataFrame 1:\")\n",
        "print(df1)\n",
        "print(\"\\nDataFrame 2:\")\n",
        "print(df2)\n",
        "print(\"\\nMerged DataFrame:\")\n",
        "print(merged_df)\n"
      ],
      "metadata": {
        "colab": {
          "base_uri": "https://localhost:8080/"
        },
        "id": "32B06JmjZm9L",
        "outputId": "3a709976-ad06-4fa3-e997-ec8d11a644e4"
      },
      "execution_count": 60,
      "outputs": [
        {
          "output_type": "stream",
          "name": "stdout",
          "text": [
            "DataFrame 1:\n",
            "   ID     Name\n",
            "0   1    Alice\n",
            "1   2      Bob\n",
            "2   3  Charlie\n",
            "\n",
            "DataFrame 2:\n",
            "   ID  Age\n",
            "0   2   25\n",
            "1   3   30\n",
            "2   4   22\n",
            "\n",
            "Merged DataFrame:\n",
            "   ID     Name  Age\n",
            "0   2      Bob   25\n",
            "1   3  Charlie   30\n"
          ]
        }
      ]
    },
    {
      "cell_type": "code",
      "source": [],
      "metadata": {
        "id": "xoz-UFSYZr13"
      },
      "execution_count": null,
      "outputs": []
    }
  ]
}