{
  "nbformat": 4,
  "nbformat_minor": 0,
  "metadata": {
    "colab": {
      "provenance": [],
      "authorship_tag": "ABX9TyPpEwx6ANhVj94Zl0Hw0j7Q",
      "include_colab_link": true
    },
    "kernelspec": {
      "name": "python3",
      "display_name": "Python 3"
    },
    "language_info": {
      "name": "python"
    }
  },
  "cells": [
    {
      "cell_type": "markdown",
      "metadata": {
        "id": "view-in-github",
        "colab_type": "text"
      },
      "source": [
        "<a href=\"https://colab.research.google.com/github/sandeep0097-97/Pythoninterview-question/blob/main/starpattern.ipynb\" target=\"_parent\"><img src=\"https://colab.research.google.com/assets/colab-badge.svg\" alt=\"Open In Colab\"/></a>"
      ]
    },
    {
      "cell_type": "code",
      "source": [
        "row=5\n",
        "for i in range(row+1,1):\n",
        "  for j in range(1,row+1,1):\n",
        "    print( j ,end=' ')\n",
        "  print()\n",
        ""
      ],
      "metadata": {
        "id": "d8FIllkV_7q_"
      },
      "execution_count": 26,
      "outputs": []
    },
    {
      "cell_type": "code",
      "source": [
        "for i in range(1,5):\n",
        "  for j in range(1,5):\n",
        "    if i<=j:\n",
        "      print(\"*\",end='')\n",
        "    else:\n",
        "      print(\" \",end= '')\n",
        "  print()"
      ],
      "metadata": {
        "colab": {
          "base_uri": "https://localhost:8080/"
        },
        "id": "I6UinVdqAltd",
        "outputId": "970f67b0-90dd-4ebf-a1df-14ff5478867b"
      },
      "execution_count": 31,
      "outputs": [
        {
          "output_type": "stream",
          "name": "stdout",
          "text": [
            "****\n",
            " ***\n",
            "  **\n",
            "   *\n"
          ]
        }
      ]
    },
    {
      "cell_type": "code",
      "source": [
        "for i in range(1,5):\n",
        "  for j in range(1,5):\n",
        "    if j>=5-i:\n",
        "      print(\"*\",end='')\n",
        "    else :\n",
        "      print(\" \",end='')\n",
        "  print()"
      ],
      "metadata": {
        "colab": {
          "base_uri": "https://localhost:8080/"
        },
        "id": "OqVqUi0rO_wL",
        "outputId": "83f86b4e-b670-4a0d-a571-a0d785afcc60"
      },
      "execution_count": 33,
      "outputs": [
        {
          "output_type": "stream",
          "name": "stdout",
          "text": [
            "   *\n",
            "  **\n",
            " ***\n",
            "****\n"
          ]
        }
      ]
    },
    {
      "cell_type": "code",
      "source": [
        "for i in range(1,5):\n",
        "  for j in range(1,5):\n",
        "    if j<=5-i:\n",
        "      print(\"*\",end='')\n",
        "    else:\n",
        "      print(\" \",end= '')\n",
        "  print()\n"
      ],
      "metadata": {
        "colab": {
          "base_uri": "https://localhost:8080/"
        },
        "id": "8l6WMxGNQCYi",
        "outputId": "15e9c87c-9c48-4ffc-b08c-2ec44d23bb39"
      },
      "execution_count": 34,
      "outputs": [
        {
          "output_type": "stream",
          "name": "stdout",
          "text": [
            "****\n",
            "*** \n",
            "**  \n",
            "*   \n"
          ]
        }
      ]
    },
    {
      "cell_type": "code",
      "source": [
        "for i in range(1,5):\n",
        "  for j in range(1,5):\n",
        "    if j>=i:\n",
        "      print(\"*\",end='')\n",
        "    else:\n",
        "      print(\" \",end= '')\n",
        "  print()\n"
      ],
      "metadata": {
        "colab": {
          "base_uri": "https://localhost:8080/"
        },
        "id": "vjxeuYwnQpHb",
        "outputId": "d1736d39-fc6a-41a3-906d-b570fa8db889"
      },
      "execution_count": 35,
      "outputs": [
        {
          "output_type": "stream",
          "name": "stdout",
          "text": [
            "****\n",
            " ***\n",
            "  **\n",
            "   *\n"
          ]
        }
      ]
    },
    {
      "cell_type": "code",
      "source": [
        "for i in range(1,5):\n",
        "  for j in range(1,8):\n",
        "    if j>=5-i and j<=3+i:\n",
        "      print(\"*\",end='')\n",
        "    else:\n",
        "      print(\" \",end= '')\n",
        "  print()"
      ],
      "metadata": {
        "colab": {
          "base_uri": "https://localhost:8080/"
        },
        "id": "tdTYyphVQ1db",
        "outputId": "a9d7f0ba-b393-4b91-821b-57aec0880a60"
      },
      "execution_count": 38,
      "outputs": [
        {
          "output_type": "stream",
          "name": "stdout",
          "text": [
            "   *   \n",
            "  ***  \n",
            " ***** \n",
            "*******\n"
          ]
        }
      ]
    },
    {
      "cell_type": "code",
      "source": [
        "for i in range(1,5):\n",
        "  for j in range(1,8):\n",
        "    if j>=5-i and j<=3+i:\n",
        "      print(j,end='')\n",
        "    else:\n",
        "      print(\" \",end= '')\n",
        "  print()"
      ],
      "metadata": {
        "colab": {
          "base_uri": "https://localhost:8080/"
        },
        "id": "lKCHHBG9RI3T",
        "outputId": "d7970bdb-f711-48de-f571-97ba4579e6cd"
      },
      "execution_count": 41,
      "outputs": [
        {
          "output_type": "stream",
          "name": "stdout",
          "text": [
            "   4   \n",
            "  345  \n",
            " 23456 \n",
            "1234567\n"
          ]
        }
      ]
    },
    {
      "cell_type": "code",
      "source": [
        "for i in range(1,5):\n",
        "  for j in range(1,8):\n",
        "    if j>=i and j<=8-i:\n",
        "      print(\"*\",end='')\n",
        "    else:\n",
        "      print(\" \",end= '')\n",
        "  print()"
      ],
      "metadata": {
        "id": "H-ZIWCnaR0Jy",
        "outputId": "cd57b845-abe4-4cd1-cf71-27fa8c3a6ec4",
        "colab": {
          "base_uri": "https://localhost:8080/"
        }
      },
      "execution_count": 43,
      "outputs": [
        {
          "output_type": "stream",
          "name": "stdout",
          "text": [
            "*******\n",
            " ***** \n",
            "  ***  \n",
            "   *   \n"
          ]
        }
      ]
    },
    {
      "cell_type": "code",
      "source": [
        "for i in range(1,5):\n",
        "  for j in range(1,8):\n",
        "    if j>=i and j<=8-i:\n",
        "      print(j,end='')\n",
        "    else:\n",
        "      print(\" \",end= '')\n",
        "  print()"
      ],
      "metadata": {
        "id": "Ly5Zc4oISETL",
        "outputId": "6e85986c-9f16-47b3-f352-e1a3e3c6c035",
        "colab": {
          "base_uri": "https://localhost:8080/"
        }
      },
      "execution_count": 44,
      "outputs": [
        {
          "output_type": "stream",
          "name": "stdout",
          "text": [
            "1234567\n",
            " 23456 \n",
            "  345  \n",
            "   4   \n"
          ]
        }
      ]
    },
    {
      "cell_type": "code",
      "source": [
        "for i in range(1,5):\n",
        "  for j in range(1,8):\n",
        "    if j<=5-i or j>=3+i:\n",
        "      print(\"*\",end='')\n",
        "    else:\n",
        "      print(\" \",end= '')\n",
        "  print()"
      ],
      "metadata": {
        "id": "ww8mQWenSLuO",
        "outputId": "5ad8ba8b-0c68-4ba4-8c38-9694c07148d6",
        "colab": {
          "base_uri": "https://localhost:8080/"
        }
      },
      "execution_count": 48,
      "outputs": [
        {
          "output_type": "stream",
          "name": "stdout",
          "text": [
            "*******\n",
            "*** ***\n",
            "**   **\n",
            "*     *\n"
          ]
        }
      ]
    },
    {
      "cell_type": "code",
      "source": [
        "for i in range(1,5):\n",
        "  for j in range(1,8):\n",
        "    if j<=5-i or j>=3+i:\n",
        "      print(j,end='')\n",
        "    else:\n",
        "      print(\" \",end= '')\n",
        "  print()"
      ],
      "metadata": {
        "id": "vVH0VHveSZ7m",
        "outputId": "e3603b22-6473-4e97-c09a-61cc085446a1",
        "colab": {
          "base_uri": "https://localhost:8080/"
        }
      },
      "execution_count": 49,
      "outputs": [
        {
          "output_type": "stream",
          "name": "stdout",
          "text": [
            "1234567\n",
            "123 567\n",
            "12   67\n",
            "1     7\n"
          ]
        }
      ]
    },
    {
      "cell_type": "code",
      "source": [
        "for i in range(1,5):\n",
        "  for j in range(1,8):\n",
        "    if j<=i:\n",
        "      print(\"*\",end='')\n",
        "    else:\n",
        "      print(\" \",end= '')\n",
        "  print()"
      ],
      "metadata": {
        "id": "617D84o3S_fv",
        "outputId": "72ef6252-7cbc-4e1c-9fc4-8e6b6d723341",
        "colab": {
          "base_uri": "https://localhost:8080/"
        }
      },
      "execution_count": 50,
      "outputs": [
        {
          "output_type": "stream",
          "name": "stdout",
          "text": [
            "*      \n",
            "**     \n",
            "***    \n",
            "****   \n"
          ]
        }
      ]
    },
    {
      "cell_type": "code",
      "source": [
        "for i in range(1,5):\n",
        "  for j in range(1,8):\n",
        "    if j<=i:\n",
        "      print(j,end='')\n",
        "    else:\n",
        "      print(\" \",end= '')\n",
        "  print()"
      ],
      "metadata": {
        "id": "rDv5jGDcTF0H",
        "outputId": "8f49ff16-2848-4310-92dd-96ad7a6bf892",
        "colab": {
          "base_uri": "https://localhost:8080/"
        }
      },
      "execution_count": 51,
      "outputs": [
        {
          "output_type": "stream",
          "name": "stdout",
          "text": [
            "1      \n",
            "12     \n",
            "123    \n",
            "1234   \n"
          ]
        }
      ]
    },
    {
      "cell_type": "code",
      "source": [
        "for i in range(1,5):\n",
        "  k=6-i\n",
        "  for j in range(1,8):\n",
        "    if j<=6-i:\n",
        "      print(k,end='')\n",
        "      k-=1\n",
        "    else:\n",
        "      print(\" \",end= '')\n",
        "  print()"
      ],
      "metadata": {
        "id": "3cMh3PRGTKbn",
        "outputId": "b5ae2040-7f06-4e1a-e0a4-399096e6b699",
        "colab": {
          "base_uri": "https://localhost:8080/"
        }
      },
      "execution_count": 53,
      "outputs": [
        {
          "output_type": "stream",
          "name": "stdout",
          "text": [
            "54321  \n",
            "4321   \n",
            "321    \n",
            "21     \n"
          ]
        }
      ]
    },
    {
      "cell_type": "code",
      "source": [],
      "metadata": {
        "id": "f0LV4dqaTcGD"
      },
      "execution_count": null,
      "outputs": []
    }
  ]
}