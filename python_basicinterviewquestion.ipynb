{
  "nbformat": 4,
  "nbformat_minor": 0,
  "metadata": {
    "colab": {
      "provenance": [],
      "authorship_tag": "ABX9TyPAmL/IV6uU++H7Jr9j4eTt",
      "include_colab_link": true
    },
    "kernelspec": {
      "name": "python3",
      "display_name": "Python 3"
    },
    "language_info": {
      "name": "python"
    }
  },
  "cells": [
    {
      "cell_type": "markdown",
      "metadata": {
        "id": "view-in-github",
        "colab_type": "text"
      },
      "source": [
        "<a href=\"https://colab.research.google.com/github/sandeep0097-97/Pythoninterview-question/blob/main/python_basicinterviewquestion.ipynb\" target=\"_parent\"><img src=\"https://colab.research.google.com/assets/colab-badge.svg\" alt=\"Open In Colab\"/></a>"
      ]
    },
    {
      "cell_type": "markdown",
      "source": [
        "####odd even"
      ],
      "metadata": {
        "id": "wHwguvqQONQ3"
      }
    },
    {
      "cell_type": "code",
      "execution_count": 2,
      "metadata": {
        "colab": {
          "base_uri": "https://localhost:8080/"
        },
        "id": "nhJ_2HsDN7cH",
        "outputId": "3476a30a-8761-4135-e60c-0870f5be2101"
      },
      "outputs": [
        {
          "output_type": "stream",
          "name": "stdout",
          "text": [
            "Odd\n"
          ]
        }
      ],
      "source": [
        "def odd_even(x):\n",
        "  if x%2==0:\n",
        "    print(\"Even\")\n",
        "  else:\n",
        "    print(\"Odd\")\n",
        "odd_even(9)"
      ]
    },
    {
      "cell_type": "markdown",
      "source": [
        "####prime number"
      ],
      "metadata": {
        "id": "yKbxj7bkOq1p"
      }
    },
    {
      "cell_type": "code",
      "source": [
        "def is_prime(number):\n",
        "    if number <= 1:\n",
        "        return False\n",
        "    for i in range(2, int(number**0.5) + 1):\n",
        "        if number % i == 0:\n",
        "            return False\n",
        "    return True\n",
        "\n",
        "# Example usage:\n",
        "num = int(input(\"Enter a number: \"))\n",
        "if is_prime(num):\n",
        "    print(f\"{num} is a prime number.\")\n",
        "else:\n",
        "    print(f\"{num} is not a prime number.\")\n"
      ],
      "metadata": {
        "colab": {
          "base_uri": "https://localhost:8080/"
        },
        "id": "u1ixbXJnOdmq",
        "outputId": "ed2ddaa3-9206-4d8c-ac2e-7e4a7df6fd58"
      },
      "execution_count": 5,
      "outputs": [
        {
          "output_type": "stream",
          "name": "stdout",
          "text": [
            "Enter a number: 9\n",
            "9 is not a prime number.\n"
          ]
        }
      ]
    },
    {
      "cell_type": "markdown",
      "source": [
        "###Armstrong number"
      ],
      "metadata": {
        "id": "PHqP12trP5hW"
      }
    },
    {
      "cell_type": "code",
      "source": [
        "def is_armstrong(number):\n",
        "    num_str = str(number)\n",
        "    num_digits = len(num_str)\n",
        "    armstrong_sum = sum(int(digit) ** num_digits for digit in num_str)\n",
        "    return armstrong_sum == number\n",
        "\n",
        "# Example usage:\n",
        "num = int(input(\"Enter a number: \"))\n",
        "if is_armstrong(num):\n",
        "    print(f\"{num} is an Armstrong number.\")\n",
        "else:\n",
        "    print(f\"{num} is not an Armstrong number.\")\n"
      ],
      "metadata": {
        "id": "OIWV0FuFPN7F",
        "outputId": "fa16332d-b3ca-4560-8239-f9677cad90fd",
        "colab": {
          "base_uri": "https://localhost:8080/"
        }
      },
      "execution_count": 6,
      "outputs": [
        {
          "output_type": "stream",
          "name": "stdout",
          "text": [
            "Enter a number: 153\n",
            "153 is an Armstrong number.\n"
          ]
        }
      ]
    },
    {
      "cell_type": "markdown",
      "source": [
        "####palindrome!"
      ],
      "metadata": {
        "id": "rSTFKlayQs8H"
      }
    },
    {
      "cell_type": "code",
      "source": [
        "def is_palindrome(number):\n",
        "    # Convert the number to a string to compare its digits\n",
        "    num_str = str(number)\n",
        "\n",
        "    # Check if the string is equal to its reverse\n",
        "    return num_str == num_str[::-1]\n",
        "\n",
        "# Example usage:\n",
        "num = int(input(\"Enter a number: \"))\n",
        "if is_palindrome(num):\n",
        "    print(f\"{num} is a palindrome.\")\n",
        "else:\n",
        "    print(f\"{num} is not a palindrome.\")\n"
      ],
      "metadata": {
        "id": "6-yhvHXNQjrx",
        "outputId": "a4f41ccd-a1fa-4635-c6a3-1c9fb74b6b54",
        "colab": {
          "base_uri": "https://localhost:8080/"
        }
      },
      "execution_count": 7,
      "outputs": [
        {
          "output_type": "stream",
          "name": "stdout",
          "text": [
            "Enter a number: 121\n",
            "121 is a palindrome.\n"
          ]
        }
      ]
    },
    {
      "cell_type": "markdown",
      "source": [
        "####Fibonacci sequence:"
      ],
      "metadata": {
        "id": "bgS5Uw8zRFjg"
      }
    },
    {
      "cell_type": "code",
      "source": [
        "def generate_fibonacci(n):\n",
        "    fibonacci_sequence = [0, 1]\n",
        "\n",
        "    while len(fibonacci_sequence) < n:\n",
        "        next_term = fibonacci_sequence[-1] + fibonacci_sequence[-2]\n",
        "        fibonacci_sequence.append(next_term)\n",
        "\n",
        "    return fibonacci_sequence\n",
        "\n",
        "# Example usage:\n",
        "num_terms = int(input(\"Enter the number of Fibonacci terms to generate: \"))\n",
        "fibonacci_sequence = generate_fibonacci(num_terms)\n",
        "print(f\"The Fibonacci sequence up to {num_terms} terms is: {fibonacci_sequence}\")\n"
      ],
      "metadata": {
        "id": "j5Epf7pAQ-0K",
        "outputId": "2ee33609-609d-4882-ddc9-bf95f16cfdcb",
        "colab": {
          "base_uri": "https://localhost:8080/"
        }
      },
      "execution_count": 8,
      "outputs": [
        {
          "output_type": "stream",
          "name": "stdout",
          "text": [
            "Enter the number of Fibonacci terms to generate: 5\n",
            "The Fibonacci sequence up to 5 terms is: [0, 1, 1, 2, 3]\n"
          ]
        }
      ]
    },
    {
      "cell_type": "markdown",
      "source": [
        "####Numbers sum"
      ],
      "metadata": {
        "id": "V92IPeSrRezJ"
      }
    },
    {
      "cell_type": "code",
      "source": [
        "def sum_of_numbers(numbers):\n",
        "    return sum(numbers)\n",
        "\n",
        "# Example usage:\n",
        "num_list = [int(x) for x in input(\"Enter a list of numbers separated by spaces: \").split()]\n",
        "result = sum_of_numbers(num_list)\n",
        "print(f\"The sum of the numbers is: {result}\")\n"
      ],
      "metadata": {
        "id": "uaWGeeGaROyb",
        "outputId": "7b80c257-1754-496a-c4be-398720172f34",
        "colab": {
          "base_uri": "https://localhost:8080/"
        }
      },
      "execution_count": 9,
      "outputs": [
        {
          "output_type": "stream",
          "name": "stdout",
          "text": [
            "Enter a list of numbers separated by spaces: 1 3 5 7 8\n",
            "The sum of the numbers is: 24\n"
          ]
        }
      ]
    },
    {
      "cell_type": "markdown",
      "source": [
        "####,factorial"
      ],
      "metadata": {
        "id": "tZacU2epRuWl"
      }
    },
    {
      "cell_type": "code",
      "source": [
        "def factorial(n):\n",
        "    if n == 0 or n == 1:\n",
        "        return 1\n",
        "    else:\n",
        "        return n * factorial(n - 1)\n",
        "\n",
        "# Example usage:\n",
        "num = int(input(\"Enter a number to calculate its factorial: \"))\n",
        "result = factorial(num)\n",
        "print(f\"The factorial of {num} is: {result}\")\n"
      ],
      "metadata": {
        "id": "E4fxMLu9RmvI",
        "outputId": "13411d03-544c-4110-a555-fb50fc29faee",
        "colab": {
          "base_uri": "https://localhost:8080/"
        }
      },
      "execution_count": 10,
      "outputs": [
        {
          "output_type": "stream",
          "name": "stdout",
          "text": [
            "Enter a number to calculate its factorial: 5\n",
            "The factorial of 5 is: 120\n"
          ]
        }
      ]
    },
    {
      "cell_type": "markdown",
      "source": [
        "####find vowel in given string"
      ],
      "metadata": {
        "id": "fQC03imjSaji"
      }
    },
    {
      "cell_type": "code",
      "source": [
        "def count_vowels(input_string):\n",
        "    vowels = \"aeiouAEIOU\"\n",
        "    vowel_count = 0\n",
        "\n",
        "    for char in input_string:\n",
        "        if char in vowels:\n",
        "            vowel_count += 1\n",
        "\n",
        "    return vowel_count\n",
        "\n",
        "# Example usage:\n",
        "input_str = input(\"Enter a string: \")\n",
        "result = count_vowels(input_str)\n",
        "print(f\"The number of vowels in the string is: {result}\")\n"
      ],
      "metadata": {
        "id": "1x1gOOhbSBR7",
        "outputId": "8141d4b4-696c-4525-a701-4010013150f3",
        "colab": {
          "base_uri": "https://localhost:8080/"
        }
      },
      "execution_count": 11,
      "outputs": [
        {
          "output_type": "stream",
          "name": "stdout",
          "text": [
            "Enter a string: sandeep\n",
            "The number of vowels in the string is: 3\n"
          ]
        }
      ]
    },
    {
      "cell_type": "code",
      "source": [],
      "metadata": {
        "id": "1Rc8EH3OSlX4"
      },
      "execution_count": null,
      "outputs": []
    }
  ]
}