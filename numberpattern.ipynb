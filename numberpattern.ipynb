{
  "nbformat": 4,
  "nbformat_minor": 0,
  "metadata": {
    "colab": {
      "provenance": [],
      "authorship_tag": "ABX9TyOLSfIDOwZCQ36C39uDUPy/",
      "include_colab_link": true
    },
    "kernelspec": {
      "name": "python3",
      "display_name": "Python 3"
    },
    "language_info": {
      "name": "python"
    }
  },
  "cells": [
    {
      "cell_type": "markdown",
      "metadata": {
        "id": "view-in-github",
        "colab_type": "text"
      },
      "source": [
        "<a href=\"https://colab.research.google.com/github/sandeep0097-97/Pythoninterview-question/blob/main/numberpattern.ipynb\" target=\"_parent\"><img src=\"https://colab.research.google.com/assets/colab-badge.svg\" alt=\"Open In Colab\"/></a>"
      ]
    },
    {
      "cell_type": "code",
      "execution_count": 2,
      "metadata": {
        "colab": {
          "base_uri": "https://localhost:8080/"
        },
        "id": "g1yeurclCmpg",
        "outputId": "cc6d56c5-13b9-47e4-f600-0ecb5dac7634"
      },
      "outputs": [
        {
          "output_type": "stream",
          "name": "stdout",
          "text": [
            "1   \n",
            "22  \n",
            "333 \n",
            "4444\n"
          ]
        }
      ],
      "source": [
        "for i in range(1,5):\n",
        "  for j in range(1,5):\n",
        "    if j<=i:\n",
        "      print(i,end='')\n",
        "    else:\n",
        "      print(\" \",end= '')\n",
        "  print()"
      ]
    },
    {
      "cell_type": "code",
      "source": [
        "for i in range(1,5):\n",
        "  for j in range(1,5):\n",
        "    if j<=i:\n",
        "      print(j,end='')\n",
        "    else:\n",
        "      print(\" \",end= '')\n",
        "  print()"
      ],
      "metadata": {
        "colab": {
          "base_uri": "https://localhost:8080/"
        },
        "id": "F_vMNDcBC-k5",
        "outputId": "d1178806-af58-41a6-9683-584017a142f8"
      },
      "execution_count": 3,
      "outputs": [
        {
          "output_type": "stream",
          "name": "stdout",
          "text": [
            "1   \n",
            "12  \n",
            "123 \n",
            "1234\n"
          ]
        }
      ]
    },
    {
      "cell_type": "code",
      "source": [
        "for i in range(1,5):\n",
        "  for j in range(1,5):\n",
        "    if j<=5-i:\n",
        "      print(i,end='')\n",
        "    else:\n",
        "      print(\" \",end= '')\n",
        "  print()"
      ],
      "metadata": {
        "colab": {
          "base_uri": "https://localhost:8080/"
        },
        "id": "hjU1EOrMDd7N",
        "outputId": "bdaffe00-15b5-4e12-da1d-8dd21915f45a"
      },
      "execution_count": 4,
      "outputs": [
        {
          "output_type": "stream",
          "name": "stdout",
          "text": [
            "1111\n",
            "222 \n",
            "33  \n",
            "4   \n"
          ]
        }
      ]
    },
    {
      "cell_type": "code",
      "source": [
        "for i in range(1,5):\n",
        "  for j in range(1,5):\n",
        "    if j<=5-i:\n",
        "      print(j,end='')\n",
        "    else:\n",
        "      print(\" \",end= '')\n",
        "  print()"
      ],
      "metadata": {
        "colab": {
          "base_uri": "https://localhost:8080/"
        },
        "id": "M5Jz7Ae-DnOI",
        "outputId": "934d7c51-8e33-43d6-e103-4113ae25c4bf"
      },
      "execution_count": 7,
      "outputs": [
        {
          "output_type": "stream",
          "name": "stdout",
          "text": [
            "1234\n",
            "123 \n",
            "12  \n",
            "1   \n"
          ]
        }
      ]
    },
    {
      "cell_type": "code",
      "source": [
        "for i in range(1,5):\n",
        "  for j in range(1,5):\n",
        "    if j<=5-i:\n",
        "      print(5,end='')\n",
        "    else:\n",
        "      print(\" \",end= '')\n",
        "  print()"
      ],
      "metadata": {
        "colab": {
          "base_uri": "https://localhost:8080/"
        },
        "id": "Rnt1jM0cDqbU",
        "outputId": "2363cd18-73ec-4d5f-c380-eee754bc042e"
      },
      "execution_count": 8,
      "outputs": [
        {
          "output_type": "stream",
          "name": "stdout",
          "text": [
            "5555\n",
            "555 \n",
            "55  \n",
            "5   \n"
          ]
        }
      ]
    },
    {
      "cell_type": "code",
      "source": [
        "for i in range(1,5):\n",
        "  k=0\n",
        "  for j in range(1,5):\n",
        "    if j<=5-i:\n",
        "      print(k,end='')\n",
        "      k+=1\n",
        "    else:\n",
        "      print(\" \",end= '')\n",
        "  print()"
      ],
      "metadata": {
        "colab": {
          "base_uri": "https://localhost:8080/"
        },
        "id": "MvWAuXD0D5Ys",
        "outputId": "81659991-78e2-40a1-8580-62f9c60ae86e"
      },
      "execution_count": 9,
      "outputs": [
        {
          "output_type": "stream",
          "name": "stdout",
          "text": [
            "0123\n",
            "012 \n",
            "01  \n",
            "0   \n"
          ]
        }
      ]
    },
    {
      "cell_type": "code",
      "source": [
        "for i in range(1,5):\n",
        "\n",
        "  for j in range(1,5):\n",
        "    if j<=i:\n",
        "      print(i*2-1,end='')\n",
        "\n",
        "    else:\n",
        "      print(\" \",end= '')\n",
        "  print()"
      ],
      "metadata": {
        "colab": {
          "base_uri": "https://localhost:8080/"
        },
        "id": "Br2K_gutEG9x",
        "outputId": "06ac7a44-a8d5-4260-f2b5-8b699646801b"
      },
      "execution_count": 12,
      "outputs": [
        {
          "output_type": "stream",
          "name": "stdout",
          "text": [
            "1   \n",
            "33  \n",
            "555 \n",
            "7777\n"
          ]
        }
      ]
    },
    {
      "cell_type": "code",
      "source": [
        "for i in range(1,6):\n",
        "  for j in range(1,6):\n",
        "    if j<=6-i:\n",
        "      print(6-i,end='')\n",
        "    else:\n",
        "      print(\" \",end= '')\n",
        "  print()"
      ],
      "metadata": {
        "colab": {
          "base_uri": "https://localhost:8080/"
        },
        "id": "IDeAxYafEU8U",
        "outputId": "b49e3e78-0579-4cad-ec97-72dd33f98857"
      },
      "execution_count": 16,
      "outputs": [
        {
          "output_type": "stream",
          "name": "stdout",
          "text": [
            "55555\n",
            "4444 \n",
            "333  \n",
            "22   \n",
            "1    \n"
          ]
        }
      ]
    },
    {
      "cell_type": "code",
      "source": [
        "for i in range(1,6):\n",
        "  for j in range(1,6):\n",
        "    if j<=i:\n",
        "      print(j,end='')\n",
        "      j-=1\n",
        "    else:\n",
        "      print(\" \",end= '')\n",
        "  print()"
      ],
      "metadata": {
        "colab": {
          "base_uri": "https://localhost:8080/"
        },
        "id": "AOL3pT8gE_bM",
        "outputId": "26f25e25-7654-47cd-8697-7b963022e250"
      },
      "execution_count": 20,
      "outputs": [
        {
          "output_type": "stream",
          "name": "stdout",
          "text": [
            "1    \n",
            "12   \n",
            "123  \n",
            "1234 \n",
            "12345\n"
          ]
        }
      ]
    },
    {
      "cell_type": "code",
      "source": [
        "for i in range(1, 6):\n",
        "    for j in range(1, 6):\n",
        "        if j <= i:\n",
        "            print(i - j + 1, end='')\n",
        "        else:\n",
        "            print(\" \", end='')\n",
        "    print()\n"
      ],
      "metadata": {
        "colab": {
          "base_uri": "https://localhost:8080/"
        },
        "id": "pWw23SwgF8NU",
        "outputId": "03aa0939-209b-4d73-e463-0b697c345fb5"
      },
      "execution_count": 21,
      "outputs": [
        {
          "output_type": "stream",
          "name": "stdout",
          "text": [
            "1    \n",
            "21   \n",
            "321  \n",
            "4321 \n",
            "54321\n"
          ]
        }
      ]
    },
    {
      "cell_type": "code",
      "source": [
        "for i in range(1, 6):\n",
        "    for j in range(1, 6):\n",
        "        if j<=6-i:\n",
        "            print(j, end='')\n",
        "        else:\n",
        "            print(\" \", end='')\n",
        "    print()\n"
      ],
      "metadata": {
        "colab": {
          "base_uri": "https://localhost:8080/"
        },
        "id": "1RyBHss6IMDc",
        "outputId": "e19b61a6-3c05-41a7-ab9d-1d3f37a40cbb"
      },
      "execution_count": 27,
      "outputs": [
        {
          "output_type": "stream",
          "name": "stdout",
          "text": [
            "12345\n",
            "1234 \n",
            "123  \n",
            "12   \n",
            "1    \n"
          ]
        }
      ]
    },
    {
      "cell_type": "code",
      "source": [
        "for i in range(1, 6):\n",
        "    for j in range(1, 6):\n",
        "        if j <= 6 - i:\n",
        "            print(6 - j, end='')\n",
        "        else:\n",
        "            print(\" \", end='')\n",
        "    print()\n",
        "\n"
      ],
      "metadata": {
        "colab": {
          "base_uri": "https://localhost:8080/"
        },
        "id": "g3rAmozAIepJ",
        "outputId": "7c031031-87be-4164-9e88-58faa2b13726"
      },
      "execution_count": 29,
      "outputs": [
        {
          "output_type": "stream",
          "name": "stdout",
          "text": [
            "54321\n",
            "5432 \n",
            "543  \n",
            "54   \n",
            "5    \n"
          ]
        }
      ]
    },
    {
      "cell_type": "code",
      "source": [
        "for i in range(1, 6):\n",
        "    count = i * (i - 1) // 2 + 1\n",
        "    for j in range(1, 6):\n",
        "        if j <= i:\n",
        "            print(count, end=' ')\n",
        "            count += 1\n",
        "        else:\n",
        "            print(\" \", end='')\n",
        "    print()\n"
      ],
      "metadata": {
        "colab": {
          "base_uri": "https://localhost:8080/"
        },
        "id": "wihjuhMJKbeI",
        "outputId": "5163cb8d-49fa-437d-85af-01fb47cc5bc4"
      },
      "execution_count": 31,
      "outputs": [
        {
          "output_type": "stream",
          "name": "stdout",
          "text": [
            "1     \n",
            "2 3    \n",
            "4 5 6   \n",
            "7 8 9 10  \n",
            "11 12 13 14 15 \n"
          ]
        }
      ]
    },
    {
      "cell_type": "code",
      "source": [
        "for i in range(1, 6):\n",
        "    # Print leading spaces\n",
        "    for j in range(1, 6 - i):\n",
        "        print(\" \", end=' ')\n",
        "\n",
        "    # Print numbers in ascending order\n",
        "    for k in range(1, i + 1):\n",
        "        print(k, end=' ')\n",
        "\n",
        "    # Move to the next line after printing each row\n",
        "    print()\n"
      ],
      "metadata": {
        "colab": {
          "base_uri": "https://localhost:8080/"
        },
        "id": "JOGiOaVVLuLN",
        "outputId": "7eae298f-c505-48f3-c5e1-c1db38ba7050"
      },
      "execution_count": 33,
      "outputs": [
        {
          "output_type": "stream",
          "name": "stdout",
          "text": [
            "        1 \n",
            "      1 2 \n",
            "    1 2 3 \n",
            "  1 2 3 4 \n",
            "1 2 3 4 5 \n"
          ]
        }
      ]
    },
    {
      "cell_type": "code",
      "source": [
        "for i in range(1, 5):\n",
        "    for j in range(1, 5):\n",
        "        if j <= 5:\n",
        "            print(\"*\", end=' ')\n",
        "\n",
        "    print()\n"
      ],
      "metadata": {
        "colab": {
          "base_uri": "https://localhost:8080/"
        },
        "id": "9v9qsih6MjxH",
        "outputId": "5d503903-1f8c-4067-a2e9-99a15ffeb791"
      },
      "execution_count": 35,
      "outputs": [
        {
          "output_type": "stream",
          "name": "stdout",
          "text": [
            "* * * * \n",
            "* * * * \n",
            "* * * * \n",
            "* * * * \n"
          ]
        }
      ]
    },
    {
      "cell_type": "code",
      "source": [],
      "metadata": {
        "id": "4tAffoPjNUfh"
      },
      "execution_count": null,
      "outputs": []
    }
  ]
}